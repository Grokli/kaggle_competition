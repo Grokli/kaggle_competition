{
 "cells": [
  {
   "cell_type": "code",
   "execution_count": 797,
   "metadata": {},
   "outputs": [],
   "source": [
    "import pandas as pd\n",
    "import numpy as np"
   ]
  },
  {
   "cell_type": "code",
   "execution_count": 798,
   "metadata": {},
   "outputs": [],
   "source": [
    "train_df = pd.read_csv(\"train.csv\")\n",
    "test_df = pd.read_csv(\"test.csv\")"
   ]
  },
  {
   "cell_type": "code",
   "execution_count": 799,
   "metadata": {},
   "outputs": [
    {
     "data": {
      "text/html": [
       "<div>\n",
       "<style scoped>\n",
       "    .dataframe tbody tr th:only-of-type {\n",
       "        vertical-align: middle;\n",
       "    }\n",
       "\n",
       "    .dataframe tbody tr th {\n",
       "        vertical-align: top;\n",
       "    }\n",
       "\n",
       "    .dataframe thead th {\n",
       "        text-align: right;\n",
       "    }\n",
       "</style>\n",
       "<table border=\"1\" class=\"dataframe\">\n",
       "  <thead>\n",
       "    <tr style=\"text-align: right;\">\n",
       "      <th></th>\n",
       "      <th>id</th>\n",
       "      <th>belongs_to_collection</th>\n",
       "      <th>budget</th>\n",
       "      <th>genres</th>\n",
       "      <th>homepage</th>\n",
       "      <th>imdb_id</th>\n",
       "      <th>original_language</th>\n",
       "      <th>original_title</th>\n",
       "      <th>overview</th>\n",
       "      <th>popularity</th>\n",
       "      <th>...</th>\n",
       "      <th>release_date</th>\n",
       "      <th>runtime</th>\n",
       "      <th>spoken_languages</th>\n",
       "      <th>status</th>\n",
       "      <th>tagline</th>\n",
       "      <th>title</th>\n",
       "      <th>Keywords</th>\n",
       "      <th>cast</th>\n",
       "      <th>crew</th>\n",
       "      <th>revenue</th>\n",
       "    </tr>\n",
       "  </thead>\n",
       "  <tbody>\n",
       "    <tr>\n",
       "      <th>0</th>\n",
       "      <td>1</td>\n",
       "      <td>[{'id': 313576, 'name': 'Hot Tub Time Machine ...</td>\n",
       "      <td>14000000</td>\n",
       "      <td>[{'id': 35, 'name': 'Comedy'}]</td>\n",
       "      <td>NaN</td>\n",
       "      <td>tt2637294</td>\n",
       "      <td>en</td>\n",
       "      <td>Hot Tub Time Machine 2</td>\n",
       "      <td>When Lou, who has become the \"father of the In...</td>\n",
       "      <td>6.575393</td>\n",
       "      <td>...</td>\n",
       "      <td>2/20/15</td>\n",
       "      <td>93.0</td>\n",
       "      <td>[{'iso_639_1': 'en', 'name': 'English'}]</td>\n",
       "      <td>Released</td>\n",
       "      <td>The Laws of Space and Time are About to be Vio...</td>\n",
       "      <td>Hot Tub Time Machine 2</td>\n",
       "      <td>[{'id': 4379, 'name': 'time travel'}, {'id': 9...</td>\n",
       "      <td>[{'cast_id': 4, 'character': 'Lou', 'credit_id...</td>\n",
       "      <td>[{'credit_id': '59ac067c92514107af02c8c8', 'de...</td>\n",
       "      <td>12314651</td>\n",
       "    </tr>\n",
       "    <tr>\n",
       "      <th>1</th>\n",
       "      <td>2</td>\n",
       "      <td>[{'id': 107674, 'name': 'The Princess Diaries ...</td>\n",
       "      <td>40000000</td>\n",
       "      <td>[{'id': 35, 'name': 'Comedy'}, {'id': 18, 'nam...</td>\n",
       "      <td>NaN</td>\n",
       "      <td>tt0368933</td>\n",
       "      <td>en</td>\n",
       "      <td>The Princess Diaries 2: Royal Engagement</td>\n",
       "      <td>Mia Thermopolis is now a college graduate and ...</td>\n",
       "      <td>8.248895</td>\n",
       "      <td>...</td>\n",
       "      <td>8/6/04</td>\n",
       "      <td>113.0</td>\n",
       "      <td>[{'iso_639_1': 'en', 'name': 'English'}]</td>\n",
       "      <td>Released</td>\n",
       "      <td>It can take a lifetime to find true love; she'...</td>\n",
       "      <td>The Princess Diaries 2: Royal Engagement</td>\n",
       "      <td>[{'id': 2505, 'name': 'coronation'}, {'id': 42...</td>\n",
       "      <td>[{'cast_id': 1, 'character': 'Mia Thermopolis'...</td>\n",
       "      <td>[{'credit_id': '52fe43fe9251416c7502563d', 'de...</td>\n",
       "      <td>95149435</td>\n",
       "    </tr>\n",
       "    <tr>\n",
       "      <th>2</th>\n",
       "      <td>3</td>\n",
       "      <td>NaN</td>\n",
       "      <td>3300000</td>\n",
       "      <td>[{'id': 18, 'name': 'Drama'}]</td>\n",
       "      <td>http://sonyclassics.com/whiplash/</td>\n",
       "      <td>tt2582802</td>\n",
       "      <td>en</td>\n",
       "      <td>Whiplash</td>\n",
       "      <td>Under the direction of a ruthless instructor, ...</td>\n",
       "      <td>64.299990</td>\n",
       "      <td>...</td>\n",
       "      <td>10/10/14</td>\n",
       "      <td>105.0</td>\n",
       "      <td>[{'iso_639_1': 'en', 'name': 'English'}]</td>\n",
       "      <td>Released</td>\n",
       "      <td>The road to greatness can take you to the edge.</td>\n",
       "      <td>Whiplash</td>\n",
       "      <td>[{'id': 1416, 'name': 'jazz'}, {'id': 1523, 'n...</td>\n",
       "      <td>[{'cast_id': 5, 'character': 'Andrew Neimann',...</td>\n",
       "      <td>[{'credit_id': '54d5356ec3a3683ba0000039', 'de...</td>\n",
       "      <td>13092000</td>\n",
       "    </tr>\n",
       "    <tr>\n",
       "      <th>3</th>\n",
       "      <td>4</td>\n",
       "      <td>NaN</td>\n",
       "      <td>1200000</td>\n",
       "      <td>[{'id': 53, 'name': 'Thriller'}, {'id': 18, 'n...</td>\n",
       "      <td>http://kahaanithefilm.com/</td>\n",
       "      <td>tt1821480</td>\n",
       "      <td>hi</td>\n",
       "      <td>Kahaani</td>\n",
       "      <td>Vidya Bagchi (Vidya Balan) arrives in Kolkata ...</td>\n",
       "      <td>3.174936</td>\n",
       "      <td>...</td>\n",
       "      <td>3/9/12</td>\n",
       "      <td>122.0</td>\n",
       "      <td>[{'iso_639_1': 'en', 'name': 'English'}, {'iso...</td>\n",
       "      <td>Released</td>\n",
       "      <td>NaN</td>\n",
       "      <td>Kahaani</td>\n",
       "      <td>[{'id': 10092, 'name': 'mystery'}, {'id': 1054...</td>\n",
       "      <td>[{'cast_id': 1, 'character': 'Vidya Bagchi', '...</td>\n",
       "      <td>[{'credit_id': '52fe48779251416c9108d6eb', 'de...</td>\n",
       "      <td>16000000</td>\n",
       "    </tr>\n",
       "    <tr>\n",
       "      <th>4</th>\n",
       "      <td>5</td>\n",
       "      <td>NaN</td>\n",
       "      <td>0</td>\n",
       "      <td>[{'id': 28, 'name': 'Action'}, {'id': 53, 'nam...</td>\n",
       "      <td>NaN</td>\n",
       "      <td>tt1380152</td>\n",
       "      <td>ko</td>\n",
       "      <td>마린보이</td>\n",
       "      <td>Marine Boy is the story of a former national s...</td>\n",
       "      <td>1.148070</td>\n",
       "      <td>...</td>\n",
       "      <td>2/5/09</td>\n",
       "      <td>118.0</td>\n",
       "      <td>[{'iso_639_1': 'ko', 'name': '한국어/조선말'}]</td>\n",
       "      <td>Released</td>\n",
       "      <td>NaN</td>\n",
       "      <td>Marine Boy</td>\n",
       "      <td>NaN</td>\n",
       "      <td>[{'cast_id': 3, 'character': 'Chun-soo', 'cred...</td>\n",
       "      <td>[{'credit_id': '52fe464b9251416c75073b43', 'de...</td>\n",
       "      <td>3923970</td>\n",
       "    </tr>\n",
       "  </tbody>\n",
       "</table>\n",
       "<p>5 rows × 23 columns</p>\n",
       "</div>"
      ],
      "text/plain": [
       "   id                              belongs_to_collection    budget  \\\n",
       "0   1  [{'id': 313576, 'name': 'Hot Tub Time Machine ...  14000000   \n",
       "1   2  [{'id': 107674, 'name': 'The Princess Diaries ...  40000000   \n",
       "2   3                                                NaN   3300000   \n",
       "3   4                                                NaN   1200000   \n",
       "4   5                                                NaN         0   \n",
       "\n",
       "                                              genres  \\\n",
       "0                     [{'id': 35, 'name': 'Comedy'}]   \n",
       "1  [{'id': 35, 'name': 'Comedy'}, {'id': 18, 'nam...   \n",
       "2                      [{'id': 18, 'name': 'Drama'}]   \n",
       "3  [{'id': 53, 'name': 'Thriller'}, {'id': 18, 'n...   \n",
       "4  [{'id': 28, 'name': 'Action'}, {'id': 53, 'nam...   \n",
       "\n",
       "                            homepage    imdb_id original_language  \\\n",
       "0                                NaN  tt2637294                en   \n",
       "1                                NaN  tt0368933                en   \n",
       "2  http://sonyclassics.com/whiplash/  tt2582802                en   \n",
       "3         http://kahaanithefilm.com/  tt1821480                hi   \n",
       "4                                NaN  tt1380152                ko   \n",
       "\n",
       "                             original_title  \\\n",
       "0                    Hot Tub Time Machine 2   \n",
       "1  The Princess Diaries 2: Royal Engagement   \n",
       "2                                  Whiplash   \n",
       "3                                   Kahaani   \n",
       "4                                      마린보이   \n",
       "\n",
       "                                            overview  popularity  ...  \\\n",
       "0  When Lou, who has become the \"father of the In...    6.575393  ...   \n",
       "1  Mia Thermopolis is now a college graduate and ...    8.248895  ...   \n",
       "2  Under the direction of a ruthless instructor, ...   64.299990  ...   \n",
       "3  Vidya Bagchi (Vidya Balan) arrives in Kolkata ...    3.174936  ...   \n",
       "4  Marine Boy is the story of a former national s...    1.148070  ...   \n",
       "\n",
       "  release_date runtime                                   spoken_languages  \\\n",
       "0      2/20/15    93.0           [{'iso_639_1': 'en', 'name': 'English'}]   \n",
       "1       8/6/04   113.0           [{'iso_639_1': 'en', 'name': 'English'}]   \n",
       "2     10/10/14   105.0           [{'iso_639_1': 'en', 'name': 'English'}]   \n",
       "3       3/9/12   122.0  [{'iso_639_1': 'en', 'name': 'English'}, {'iso...   \n",
       "4       2/5/09   118.0           [{'iso_639_1': 'ko', 'name': '한국어/조선말'}]   \n",
       "\n",
       "     status                                            tagline  \\\n",
       "0  Released  The Laws of Space and Time are About to be Vio...   \n",
       "1  Released  It can take a lifetime to find true love; she'...   \n",
       "2  Released    The road to greatness can take you to the edge.   \n",
       "3  Released                                                NaN   \n",
       "4  Released                                                NaN   \n",
       "\n",
       "                                      title  \\\n",
       "0                    Hot Tub Time Machine 2   \n",
       "1  The Princess Diaries 2: Royal Engagement   \n",
       "2                                  Whiplash   \n",
       "3                                   Kahaani   \n",
       "4                                Marine Boy   \n",
       "\n",
       "                                            Keywords  \\\n",
       "0  [{'id': 4379, 'name': 'time travel'}, {'id': 9...   \n",
       "1  [{'id': 2505, 'name': 'coronation'}, {'id': 42...   \n",
       "2  [{'id': 1416, 'name': 'jazz'}, {'id': 1523, 'n...   \n",
       "3  [{'id': 10092, 'name': 'mystery'}, {'id': 1054...   \n",
       "4                                                NaN   \n",
       "\n",
       "                                                cast  \\\n",
       "0  [{'cast_id': 4, 'character': 'Lou', 'credit_id...   \n",
       "1  [{'cast_id': 1, 'character': 'Mia Thermopolis'...   \n",
       "2  [{'cast_id': 5, 'character': 'Andrew Neimann',...   \n",
       "3  [{'cast_id': 1, 'character': 'Vidya Bagchi', '...   \n",
       "4  [{'cast_id': 3, 'character': 'Chun-soo', 'cred...   \n",
       "\n",
       "                                                crew   revenue  \n",
       "0  [{'credit_id': '59ac067c92514107af02c8c8', 'de...  12314651  \n",
       "1  [{'credit_id': '52fe43fe9251416c7502563d', 'de...  95149435  \n",
       "2  [{'credit_id': '54d5356ec3a3683ba0000039', 'de...  13092000  \n",
       "3  [{'credit_id': '52fe48779251416c9108d6eb', 'de...  16000000  \n",
       "4  [{'credit_id': '52fe464b9251416c75073b43', 'de...   3923970  \n",
       "\n",
       "[5 rows x 23 columns]"
      ]
     },
     "execution_count": 799,
     "metadata": {},
     "output_type": "execute_result"
    }
   ],
   "source": [
    "train_df.head()"
   ]
  },
  {
   "cell_type": "code",
   "execution_count": 800,
   "metadata": {
    "scrolled": false
   },
   "outputs": [
    {
     "name": "stdout",
     "output_type": "stream",
     "text": [
      "<class 'pandas.core.frame.DataFrame'>\n",
      "RangeIndex: 3000 entries, 0 to 2999\n",
      "Data columns (total 23 columns):\n",
      "id                       3000 non-null int64\n",
      "belongs_to_collection    604 non-null object\n",
      "budget                   3000 non-null int64\n",
      "genres                   2993 non-null object\n",
      "homepage                 946 non-null object\n",
      "imdb_id                  3000 non-null object\n",
      "original_language        3000 non-null object\n",
      "original_title           3000 non-null object\n",
      "overview                 2992 non-null object\n",
      "popularity               3000 non-null float64\n",
      "poster_path              2999 non-null object\n",
      "production_companies     2844 non-null object\n",
      "production_countries     2945 non-null object\n",
      "release_date             3000 non-null object\n",
      "runtime                  2998 non-null float64\n",
      "spoken_languages         2980 non-null object\n",
      "status                   3000 non-null object\n",
      "tagline                  2403 non-null object\n",
      "title                    3000 non-null object\n",
      "Keywords                 2724 non-null object\n",
      "cast                     2987 non-null object\n",
      "crew                     2984 non-null object\n",
      "revenue                  3000 non-null int64\n",
      "dtypes: float64(2), int64(3), object(18)\n",
      "memory usage: 539.1+ KB\n"
     ]
    }
   ],
   "source": [
    "train_df.info()"
   ]
  },
  {
   "cell_type": "code",
   "execution_count": 801,
   "metadata": {},
   "outputs": [
    {
     "data": {
      "text/html": [
       "<div>\n",
       "<style scoped>\n",
       "    .dataframe tbody tr th:only-of-type {\n",
       "        vertical-align: middle;\n",
       "    }\n",
       "\n",
       "    .dataframe tbody tr th {\n",
       "        vertical-align: top;\n",
       "    }\n",
       "\n",
       "    .dataframe thead th {\n",
       "        text-align: right;\n",
       "    }\n",
       "</style>\n",
       "<table border=\"1\" class=\"dataframe\">\n",
       "  <thead>\n",
       "    <tr style=\"text-align: right;\">\n",
       "      <th></th>\n",
       "      <th>id</th>\n",
       "      <th>belongs_to_collection</th>\n",
       "      <th>budget</th>\n",
       "      <th>genres</th>\n",
       "      <th>homepage</th>\n",
       "      <th>imdb_id</th>\n",
       "      <th>original_language</th>\n",
       "      <th>original_title</th>\n",
       "      <th>overview</th>\n",
       "      <th>popularity</th>\n",
       "      <th>...</th>\n",
       "      <th>production_countries</th>\n",
       "      <th>release_date</th>\n",
       "      <th>runtime</th>\n",
       "      <th>spoken_languages</th>\n",
       "      <th>status</th>\n",
       "      <th>tagline</th>\n",
       "      <th>title</th>\n",
       "      <th>Keywords</th>\n",
       "      <th>cast</th>\n",
       "      <th>crew</th>\n",
       "    </tr>\n",
       "  </thead>\n",
       "  <tbody>\n",
       "    <tr>\n",
       "      <th>0</th>\n",
       "      <td>3001</td>\n",
       "      <td>[{'id': 34055, 'name': 'Pokémon Collection', '...</td>\n",
       "      <td>0</td>\n",
       "      <td>[{'id': 12, 'name': 'Adventure'}, {'id': 16, '...</td>\n",
       "      <td>http://www.pokemon.com/us/movies/movie-pokemon...</td>\n",
       "      <td>tt1226251</td>\n",
       "      <td>ja</td>\n",
       "      <td>ディアルガVSパルキアVSダークライ</td>\n",
       "      <td>Ash and friends (this time accompanied by newc...</td>\n",
       "      <td>3.851534</td>\n",
       "      <td>...</td>\n",
       "      <td>[{'iso_3166_1': 'JP', 'name': 'Japan'}, {'iso_...</td>\n",
       "      <td>7/14/07</td>\n",
       "      <td>90.0</td>\n",
       "      <td>[{'iso_639_1': 'en', 'name': 'English'}, {'iso...</td>\n",
       "      <td>Released</td>\n",
       "      <td>Somewhere Between Time &amp; Space... A Legend Is ...</td>\n",
       "      <td>Pokémon: The Rise of Darkrai</td>\n",
       "      <td>[{'id': 11451, 'name': 'pok√©mon'}, {'id': 115...</td>\n",
       "      <td>[{'cast_id': 3, 'character': 'Tonio', 'credit_...</td>\n",
       "      <td>[{'credit_id': '52fe44e7c3a368484e03d683', 'de...</td>\n",
       "    </tr>\n",
       "    <tr>\n",
       "      <th>1</th>\n",
       "      <td>3002</td>\n",
       "      <td>NaN</td>\n",
       "      <td>88000</td>\n",
       "      <td>[{'id': 27, 'name': 'Horror'}, {'id': 878, 'na...</td>\n",
       "      <td>NaN</td>\n",
       "      <td>tt0051380</td>\n",
       "      <td>en</td>\n",
       "      <td>Attack of the 50 Foot Woman</td>\n",
       "      <td>When an abused wife grows to giant size becaus...</td>\n",
       "      <td>3.559789</td>\n",
       "      <td>...</td>\n",
       "      <td>[{'iso_3166_1': 'US', 'name': 'United States o...</td>\n",
       "      <td>5/19/58</td>\n",
       "      <td>65.0</td>\n",
       "      <td>[{'iso_639_1': 'en', 'name': 'English'}]</td>\n",
       "      <td>Released</td>\n",
       "      <td>A titanic beauty spreads a macabre wave of hor...</td>\n",
       "      <td>Attack of the 50 Foot Woman</td>\n",
       "      <td>[{'id': 9748, 'name': 'revenge'}, {'id': 9951,...</td>\n",
       "      <td>[{'cast_id': 2, 'character': 'Nancy Fowler Arc...</td>\n",
       "      <td>[{'credit_id': '55807805c3a3685b1300060b', 'de...</td>\n",
       "    </tr>\n",
       "    <tr>\n",
       "      <th>2</th>\n",
       "      <td>3003</td>\n",
       "      <td>NaN</td>\n",
       "      <td>0</td>\n",
       "      <td>[{'id': 35, 'name': 'Comedy'}, {'id': 10749, '...</td>\n",
       "      <td>NaN</td>\n",
       "      <td>tt0118556</td>\n",
       "      <td>en</td>\n",
       "      <td>Addicted to Love</td>\n",
       "      <td>Good-natured astronomer Sam is devastated when...</td>\n",
       "      <td>8.085194</td>\n",
       "      <td>...</td>\n",
       "      <td>[{'iso_3166_1': 'US', 'name': 'United States o...</td>\n",
       "      <td>5/23/97</td>\n",
       "      <td>100.0</td>\n",
       "      <td>[{'iso_639_1': 'en', 'name': 'English'}]</td>\n",
       "      <td>Released</td>\n",
       "      <td>A Comedy About Lost Loves And Last Laughs</td>\n",
       "      <td>Addicted to Love</td>\n",
       "      <td>[{'id': 931, 'name': 'jealousy'}, {'id': 9673,...</td>\n",
       "      <td>[{'cast_id': 11, 'character': 'Maggie', 'credi...</td>\n",
       "      <td>[{'credit_id': '52fe4330c3a36847f8041367', 'de...</td>\n",
       "    </tr>\n",
       "    <tr>\n",
       "      <th>3</th>\n",
       "      <td>3004</td>\n",
       "      <td>NaN</td>\n",
       "      <td>6800000</td>\n",
       "      <td>[{'id': 18, 'name': 'Drama'}, {'id': 10752, 'n...</td>\n",
       "      <td>http://www.sonyclassics.com/incendies/</td>\n",
       "      <td>tt1255953</td>\n",
       "      <td>fr</td>\n",
       "      <td>Incendies</td>\n",
       "      <td>A mother's last wishes send twins Jeanne and S...</td>\n",
       "      <td>8.596012</td>\n",
       "      <td>...</td>\n",
       "      <td>[{'iso_3166_1': 'CA', 'name': 'Canada'}, {'iso...</td>\n",
       "      <td>9/4/10</td>\n",
       "      <td>130.0</td>\n",
       "      <td>[{'iso_639_1': 'fr', 'name': 'Français'}, {'is...</td>\n",
       "      <td>Released</td>\n",
       "      <td>The search began at the opening of their mothe...</td>\n",
       "      <td>Incendies</td>\n",
       "      <td>[{'id': 378, 'name': 'prison'}, {'id': 539, 'n...</td>\n",
       "      <td>[{'cast_id': 6, 'character': 'Nawal', 'credit_...</td>\n",
       "      <td>[{'credit_id': '56478092c3a36826140043af', 'de...</td>\n",
       "    </tr>\n",
       "    <tr>\n",
       "      <th>4</th>\n",
       "      <td>3005</td>\n",
       "      <td>NaN</td>\n",
       "      <td>2000000</td>\n",
       "      <td>[{'id': 36, 'name': 'History'}, {'id': 99, 'na...</td>\n",
       "      <td>NaN</td>\n",
       "      <td>tt0418753</td>\n",
       "      <td>en</td>\n",
       "      <td>Inside Deep Throat</td>\n",
       "      <td>In 1972, a seemingly typical shoestring budget...</td>\n",
       "      <td>3.217680</td>\n",
       "      <td>...</td>\n",
       "      <td>[{'iso_3166_1': 'US', 'name': 'United States o...</td>\n",
       "      <td>2/11/05</td>\n",
       "      <td>92.0</td>\n",
       "      <td>[{'iso_639_1': 'en', 'name': 'English'}]</td>\n",
       "      <td>Released</td>\n",
       "      <td>It was filmed in 6 days for 25 thousand dollar...</td>\n",
       "      <td>Inside Deep Throat</td>\n",
       "      <td>[{'id': 279, 'name': 'usa'}, {'id': 1228, 'nam...</td>\n",
       "      <td>[{'cast_id': 1, 'character': 'Narrator (voice)...</td>\n",
       "      <td>[{'credit_id': '52fe44ce9251416c75041967', 'de...</td>\n",
       "    </tr>\n",
       "  </tbody>\n",
       "</table>\n",
       "<p>5 rows × 22 columns</p>\n",
       "</div>"
      ],
      "text/plain": [
       "     id                              belongs_to_collection   budget  \\\n",
       "0  3001  [{'id': 34055, 'name': 'Pokémon Collection', '...        0   \n",
       "1  3002                                                NaN    88000   \n",
       "2  3003                                                NaN        0   \n",
       "3  3004                                                NaN  6800000   \n",
       "4  3005                                                NaN  2000000   \n",
       "\n",
       "                                              genres  \\\n",
       "0  [{'id': 12, 'name': 'Adventure'}, {'id': 16, '...   \n",
       "1  [{'id': 27, 'name': 'Horror'}, {'id': 878, 'na...   \n",
       "2  [{'id': 35, 'name': 'Comedy'}, {'id': 10749, '...   \n",
       "3  [{'id': 18, 'name': 'Drama'}, {'id': 10752, 'n...   \n",
       "4  [{'id': 36, 'name': 'History'}, {'id': 99, 'na...   \n",
       "\n",
       "                                            homepage    imdb_id  \\\n",
       "0  http://www.pokemon.com/us/movies/movie-pokemon...  tt1226251   \n",
       "1                                                NaN  tt0051380   \n",
       "2                                                NaN  tt0118556   \n",
       "3             http://www.sonyclassics.com/incendies/  tt1255953   \n",
       "4                                                NaN  tt0418753   \n",
       "\n",
       "  original_language               original_title  \\\n",
       "0                ja           ディアルガVSパルキアVSダークライ   \n",
       "1                en  Attack of the 50 Foot Woman   \n",
       "2                en             Addicted to Love   \n",
       "3                fr                    Incendies   \n",
       "4                en           Inside Deep Throat   \n",
       "\n",
       "                                            overview  popularity  ...  \\\n",
       "0  Ash and friends (this time accompanied by newc...    3.851534  ...   \n",
       "1  When an abused wife grows to giant size becaus...    3.559789  ...   \n",
       "2  Good-natured astronomer Sam is devastated when...    8.085194  ...   \n",
       "3  A mother's last wishes send twins Jeanne and S...    8.596012  ...   \n",
       "4  In 1972, a seemingly typical shoestring budget...    3.217680  ...   \n",
       "\n",
       "                                production_countries release_date runtime  \\\n",
       "0  [{'iso_3166_1': 'JP', 'name': 'Japan'}, {'iso_...      7/14/07    90.0   \n",
       "1  [{'iso_3166_1': 'US', 'name': 'United States o...      5/19/58    65.0   \n",
       "2  [{'iso_3166_1': 'US', 'name': 'United States o...      5/23/97   100.0   \n",
       "3  [{'iso_3166_1': 'CA', 'name': 'Canada'}, {'iso...       9/4/10   130.0   \n",
       "4  [{'iso_3166_1': 'US', 'name': 'United States o...      2/11/05    92.0   \n",
       "\n",
       "                                    spoken_languages    status  \\\n",
       "0  [{'iso_639_1': 'en', 'name': 'English'}, {'iso...  Released   \n",
       "1           [{'iso_639_1': 'en', 'name': 'English'}]  Released   \n",
       "2           [{'iso_639_1': 'en', 'name': 'English'}]  Released   \n",
       "3  [{'iso_639_1': 'fr', 'name': 'Français'}, {'is...  Released   \n",
       "4           [{'iso_639_1': 'en', 'name': 'English'}]  Released   \n",
       "\n",
       "                                             tagline  \\\n",
       "0  Somewhere Between Time & Space... A Legend Is ...   \n",
       "1  A titanic beauty spreads a macabre wave of hor...   \n",
       "2          A Comedy About Lost Loves And Last Laughs   \n",
       "3  The search began at the opening of their mothe...   \n",
       "4  It was filmed in 6 days for 25 thousand dollar...   \n",
       "\n",
       "                          title  \\\n",
       "0  Pokémon: The Rise of Darkrai   \n",
       "1   Attack of the 50 Foot Woman   \n",
       "2              Addicted to Love   \n",
       "3                     Incendies   \n",
       "4            Inside Deep Throat   \n",
       "\n",
       "                                            Keywords  \\\n",
       "0  [{'id': 11451, 'name': 'pok√©mon'}, {'id': 115...   \n",
       "1  [{'id': 9748, 'name': 'revenge'}, {'id': 9951,...   \n",
       "2  [{'id': 931, 'name': 'jealousy'}, {'id': 9673,...   \n",
       "3  [{'id': 378, 'name': 'prison'}, {'id': 539, 'n...   \n",
       "4  [{'id': 279, 'name': 'usa'}, {'id': 1228, 'nam...   \n",
       "\n",
       "                                                cast  \\\n",
       "0  [{'cast_id': 3, 'character': 'Tonio', 'credit_...   \n",
       "1  [{'cast_id': 2, 'character': 'Nancy Fowler Arc...   \n",
       "2  [{'cast_id': 11, 'character': 'Maggie', 'credi...   \n",
       "3  [{'cast_id': 6, 'character': 'Nawal', 'credit_...   \n",
       "4  [{'cast_id': 1, 'character': 'Narrator (voice)...   \n",
       "\n",
       "                                                crew  \n",
       "0  [{'credit_id': '52fe44e7c3a368484e03d683', 'de...  \n",
       "1  [{'credit_id': '55807805c3a3685b1300060b', 'de...  \n",
       "2  [{'credit_id': '52fe4330c3a36847f8041367', 'de...  \n",
       "3  [{'credit_id': '56478092c3a36826140043af', 'de...  \n",
       "4  [{'credit_id': '52fe44ce9251416c75041967', 'de...  \n",
       "\n",
       "[5 rows x 22 columns]"
      ]
     },
     "execution_count": 801,
     "metadata": {},
     "output_type": "execute_result"
    }
   ],
   "source": [
    "test_df.head()"
   ]
  },
  {
   "cell_type": "code",
   "execution_count": 802,
   "metadata": {
    "scrolled": true
   },
   "outputs": [
    {
     "name": "stdout",
     "output_type": "stream",
     "text": [
      "<class 'pandas.core.frame.DataFrame'>\n",
      "RangeIndex: 4398 entries, 0 to 4397\n",
      "Data columns (total 22 columns):\n",
      "id                       4398 non-null int64\n",
      "belongs_to_collection    877 non-null object\n",
      "budget                   4398 non-null int64\n",
      "genres                   4382 non-null object\n",
      "homepage                 1420 non-null object\n",
      "imdb_id                  4398 non-null object\n",
      "original_language        4398 non-null object\n",
      "original_title           4398 non-null object\n",
      "overview                 4384 non-null object\n",
      "popularity               4398 non-null float64\n",
      "poster_path              4397 non-null object\n",
      "production_companies     4140 non-null object\n",
      "production_countries     4296 non-null object\n",
      "release_date             4397 non-null object\n",
      "runtime                  4394 non-null float64\n",
      "spoken_languages         4356 non-null object\n",
      "status                   4396 non-null object\n",
      "tagline                  3535 non-null object\n",
      "title                    4395 non-null object\n",
      "Keywords                 4005 non-null object\n",
      "cast                     4385 non-null object\n",
      "crew                     4376 non-null object\n",
      "dtypes: float64(2), int64(2), object(18)\n",
      "memory usage: 756.0+ KB\n"
     ]
    }
   ],
   "source": [
    "test_df.info()"
   ]
  },
  {
   "cell_type": "code",
   "execution_count": 803,
   "metadata": {
    "scrolled": true
   },
   "outputs": [
    {
     "data": {
      "text/plain": [
       "id                                                                       2\n",
       "belongs_to_collection    [{'id': 107674, 'name': 'The Princess Diaries ...\n",
       "budget                                                            40000000\n",
       "genres                   [{'id': 35, 'name': 'Comedy'}, {'id': 18, 'nam...\n",
       "homepage                                                               NaN\n",
       "imdb_id                                                          tt0368933\n",
       "original_language                                                       en\n",
       "original_title                    The Princess Diaries 2: Royal Engagement\n",
       "overview                 Mia Thermopolis is now a college graduate and ...\n",
       "popularity                                                         8.24889\n",
       "poster_path                               /w9Z7A0GHEhIp7etpj0vyKOeU1Wx.jpg\n",
       "production_companies           [{'name': 'Walt Disney Pictures', 'id': 2}]\n",
       "production_countries     [{'iso_3166_1': 'US', 'name': 'United States o...\n",
       "release_date                                                        8/6/04\n",
       "runtime                                                                113\n",
       "spoken_languages                  [{'iso_639_1': 'en', 'name': 'English'}]\n",
       "status                                                            Released\n",
       "tagline                  It can take a lifetime to find true love; she'...\n",
       "title                             The Princess Diaries 2: Royal Engagement\n",
       "Keywords                 [{'id': 2505, 'name': 'coronation'}, {'id': 42...\n",
       "cast                     [{'cast_id': 1, 'character': 'Mia Thermopolis'...\n",
       "crew                     [{'credit_id': '52fe43fe9251416c7502563d', 'de...\n",
       "revenue                                                           95149435\n",
       "Name: 1, dtype: object"
      ]
     },
     "execution_count": 803,
     "metadata": {},
     "output_type": "execute_result"
    }
   ],
   "source": [
    "train_df.iloc[1,:]"
   ]
  },
  {
   "cell_type": "code",
   "execution_count": 804,
   "metadata": {},
   "outputs": [
    {
     "data": {
      "text/plain": [
       "\"[{'id': 107674, 'name': 'The Princess Diaries Collection', 'poster_path': '/wt5AMbxPTS4Kfjx7Fgm149qPfZl.jpg', 'backdrop_path': '/zSEtYD77pKRJlUPx34BJgUG9v1c.jpg'}]\""
      ]
     },
     "execution_count": 804,
     "metadata": {},
     "output_type": "execute_result"
    }
   ],
   "source": [
    "train_df.belongs_to_collection[1]"
   ]
  },
  {
   "cell_type": "code",
   "execution_count": 805,
   "metadata": {},
   "outputs": [
    {
     "data": {
      "text/plain": [
       "\"[{'id': 35, 'name': 'Comedy'}, {'id': 18, 'name': 'Drama'}, {'id': 10751, 'name': 'Family'}, {'id': 10749, 'name': 'Romance'}]\""
      ]
     },
     "execution_count": 805,
     "metadata": {},
     "output_type": "execute_result"
    }
   ],
   "source": [
    "train_df.genres[1]"
   ]
  },
  {
   "cell_type": "code",
   "execution_count": 806,
   "metadata": {},
   "outputs": [
    {
     "data": {
      "text/plain": [
       "\"Mia Thermopolis is now a college graduate and on her way to Genovia to take up her duties as princess. Her best friend Lilly also joins her for the summer. Mia continues her 'princess lessons'- riding horses side-saddle, archery, and other royal. But her complicated life is turned upside down once again when she not only learns that she is to take the crown as queen earlier than expected...\""
      ]
     },
     "execution_count": 806,
     "metadata": {},
     "output_type": "execute_result"
    }
   ],
   "source": [
    "train_df.overview[1]"
   ]
  },
  {
   "cell_type": "code",
   "execution_count": 807,
   "metadata": {},
   "outputs": [
    {
     "data": {
      "text/plain": [
       "\"[{'name': 'Walt Disney Pictures', 'id': 2}]\""
      ]
     },
     "execution_count": 807,
     "metadata": {},
     "output_type": "execute_result"
    }
   ],
   "source": [
    "train_df.production_companies[1]"
   ]
  },
  {
   "cell_type": "code",
   "execution_count": 808,
   "metadata": {},
   "outputs": [
    {
     "data": {
      "text/plain": [
       "\"[{'iso_3166_1': 'US', 'name': 'United States of America'}]\""
      ]
     },
     "execution_count": 808,
     "metadata": {},
     "output_type": "execute_result"
    }
   ],
   "source": [
    "train_df.production_countries[1]"
   ]
  },
  {
   "cell_type": "code",
   "execution_count": 809,
   "metadata": {},
   "outputs": [
    {
     "data": {
      "text/plain": [
       "\"[{'iso_639_1': 'en', 'name': 'English'}]\""
      ]
     },
     "execution_count": 809,
     "metadata": {},
     "output_type": "execute_result"
    }
   ],
   "source": [
    "train_df.spoken_languages[1]"
   ]
  },
  {
   "cell_type": "code",
   "execution_count": 810,
   "metadata": {},
   "outputs": [
    {
     "data": {
      "text/plain": [
       "\"It can take a lifetime to find true love; she's got 30 days!\""
      ]
     },
     "execution_count": 810,
     "metadata": {},
     "output_type": "execute_result"
    }
   ],
   "source": [
    "train_df.tagline[1]"
   ]
  },
  {
   "cell_type": "code",
   "execution_count": 811,
   "metadata": {},
   "outputs": [
    {
     "data": {
      "text/plain": [
       "\"[{'id': 2505, 'name': 'coronation'}, {'id': 4263, 'name': 'duty'}, {'id': 6038, 'name': 'marriage'}, {'id': 13072, 'name': 'falling in love'}]\""
      ]
     },
     "execution_count": 811,
     "metadata": {},
     "output_type": "execute_result"
    }
   ],
   "source": [
    "train_df.Keywords[1]"
   ]
  },
  {
   "cell_type": "code",
   "execution_count": 812,
   "metadata": {},
   "outputs": [
    {
     "data": {
      "text/plain": [
       "[{'cast_id': 1,\n",
       "  'character': \"Katie O'Dare Scott\",\n",
       "  'credit_id': '52fe446f9251416c91010a6b',\n",
       "  'gender': 1,\n",
       "  'id': 37995,\n",
       "  'name': 'Bo Derek',\n",
       "  'order': 0,\n",
       "  'profile_path': '/7WI05Puq8rxZKjXK7nMp82LoNNY.jpg'},\n",
       " {'cast_id': 2,\n",
       "  'character': 'Scott',\n",
       "  'credit_id': '52fe446f9251416c91010a6f',\n",
       "  'gender': 2,\n",
       "  'id': 5401,\n",
       "  'name': 'Anthony Quinn',\n",
       "  'order': 1,\n",
       "  'profile_path': '/9sKpm4KCoUbmMbR86fpqcgBCHrJ.jpg'},\n",
       " {'cast_id': 3,\n",
       "  'character': 'Winston',\n",
       "  'credit_id': '52fe446f9251416c91010a73',\n",
       "  'gender': 2,\n",
       "  'id': 18666,\n",
       "  'name': 'Don Murray',\n",
       "  'order': 2,\n",
       "  'profile_path': '/xYOnJM2zNqRAI1yB7ttlBkOUadO.jpg'},\n",
       " {'cast_id': 4,\n",
       "  'character': 'Angel',\n",
       "  'credit_id': '52fe44709251416c91010a77',\n",
       "  'gender': 1,\n",
       "  'id': 15973,\n",
       "  'name': 'Julie Newmar',\n",
       "  'order': 3,\n",
       "  'profile_path': '/zI0Be7zC6wcGF4zZrdLlnHiLA6u.jpg'},\n",
       " {'cast_id': 9,\n",
       "  'character': 'Himself',\n",
       "  'credit_id': '583a37519251416b0d00e22a',\n",
       "  'gender': 2,\n",
       "  'id': 33663,\n",
       "  'name': 'Donald Trump',\n",
       "  'order': 4,\n",
       "  'profile_path': '/gP73QwYUzskedHNFzQsEfJ7pLzP.jpg'}]"
      ]
     },
     "execution_count": 812,
     "metadata": {},
     "output_type": "execute_result"
    }
   ],
   "source": [
    "eval(train_df.cast[165])"
   ]
  },
  {
   "cell_type": "code",
   "execution_count": 813,
   "metadata": {
    "scrolled": true
   },
   "outputs": [
    {
     "data": {
      "text/plain": [
       "[{'credit_id': '52fe43fe9251416c7502563d',\n",
       "  'department': 'Directing',\n",
       "  'gender': 2,\n",
       "  'id': 1201,\n",
       "  'job': 'Director',\n",
       "  'name': 'Garry Marshall',\n",
       "  'profile_path': '/kx77E8p5rnEmKxIhFT0qWCEMEik.jpg'},\n",
       " {'credit_id': '52fe43fe9251416c75025667',\n",
       "  'department': 'Camera',\n",
       "  'gender': 2,\n",
       "  'id': 1214,\n",
       "  'job': 'Director of Photography',\n",
       "  'name': 'Charles Minsky',\n",
       "  'profile_path': None},\n",
       " {'credit_id': '52fe43fe9251416c75025661',\n",
       "  'department': 'Sound',\n",
       "  'gender': 2,\n",
       "  'id': 4500,\n",
       "  'job': 'Original Music Composer',\n",
       "  'name': 'John Debney',\n",
       "  'profile_path': '/hTrlvZlDXQk49nfc2BM9sjKfJv.jpg'},\n",
       " {'credit_id': '52fe43fe9251416c7502564f',\n",
       "  'department': 'Production',\n",
       "  'gender': 1,\n",
       "  'id': 8851,\n",
       "  'job': 'Producer',\n",
       "  'name': 'Whitney Houston',\n",
       "  'profile_path': '/69ouDnXnmklYPr4sMJXWKYz81AL.jpg'},\n",
       " {'credit_id': '52fe43fe9251416c7502566d',\n",
       "  'department': 'Editing',\n",
       "  'gender': 0,\n",
       "  'id': 12970,\n",
       "  'job': 'Editor',\n",
       "  'name': 'Bruce Green',\n",
       "  'profile_path': '/yplxWPVgwK1b33AjvbhM9mWX2Aw.jpg'},\n",
       " {'credit_id': '52fe43fe9251416c75025655',\n",
       "  'department': 'Production',\n",
       "  'gender': 2,\n",
       "  'id': 38415,\n",
       "  'job': 'Producer',\n",
       "  'name': 'Mario Iscovich',\n",
       "  'profile_path': None},\n",
       " {'credit_id': '52fe43fe9251416c7502565b',\n",
       "  'department': 'Production',\n",
       "  'gender': 1,\n",
       "  'id': 38416,\n",
       "  'job': 'Executive Producer',\n",
       "  'name': 'Ellen H. Schwartz',\n",
       "  'profile_path': '/6WInjABr1sAYGXaa5qOvSrsHIqP.jpg'},\n",
       " {'credit_id': '52fe43fe9251416c75025649',\n",
       "  'department': 'Production',\n",
       "  'gender': 1,\n",
       "  'id': 59973,\n",
       "  'job': 'Producer',\n",
       "  'name': 'Debra Martin Chase',\n",
       "  'profile_path': None},\n",
       " {'credit_id': '52fe43fe9251416c75025643',\n",
       "  'department': 'Writing',\n",
       "  'gender': 1,\n",
       "  'id': 25539,\n",
       "  'job': 'Screenplay',\n",
       "  'name': 'Shonda Rhimes',\n",
       "  'profile_path': '/4c77e347InbTAlw9lGvORpZBHV6.jpg'}]"
      ]
     },
     "execution_count": 813,
     "metadata": {},
     "output_type": "execute_result"
    }
   ],
   "source": [
    "eval(train_df.crew[1])"
   ]
  },
  {
   "cell_type": "code",
   "execution_count": 814,
   "metadata": {},
   "outputs": [],
   "source": [
    "train_n = len(train_df)\n",
    "test_n = len(test_df)"
   ]
  },
  {
   "cell_type": "code",
   "execution_count": 815,
   "metadata": {
    "scrolled": true
   },
   "outputs": [],
   "source": [
    "all_df = pd.concat([train_df, test_df], ignore_index=True, sort=False)"
   ]
  },
  {
   "cell_type": "code",
   "execution_count": 816,
   "metadata": {
    "scrolled": true
   },
   "outputs": [
    {
     "data": {
      "text/html": [
       "<div>\n",
       "<style scoped>\n",
       "    .dataframe tbody tr th:only-of-type {\n",
       "        vertical-align: middle;\n",
       "    }\n",
       "\n",
       "    .dataframe tbody tr th {\n",
       "        vertical-align: top;\n",
       "    }\n",
       "\n",
       "    .dataframe thead th {\n",
       "        text-align: right;\n",
       "    }\n",
       "</style>\n",
       "<table border=\"1\" class=\"dataframe\">\n",
       "  <thead>\n",
       "    <tr style=\"text-align: right;\">\n",
       "      <th></th>\n",
       "      <th>id</th>\n",
       "      <th>belongs_to_collection</th>\n",
       "      <th>budget</th>\n",
       "      <th>genres</th>\n",
       "      <th>homepage</th>\n",
       "      <th>imdb_id</th>\n",
       "      <th>original_language</th>\n",
       "      <th>original_title</th>\n",
       "      <th>overview</th>\n",
       "      <th>popularity</th>\n",
       "      <th>...</th>\n",
       "      <th>release_date</th>\n",
       "      <th>runtime</th>\n",
       "      <th>spoken_languages</th>\n",
       "      <th>status</th>\n",
       "      <th>tagline</th>\n",
       "      <th>title</th>\n",
       "      <th>Keywords</th>\n",
       "      <th>cast</th>\n",
       "      <th>crew</th>\n",
       "      <th>revenue</th>\n",
       "    </tr>\n",
       "  </thead>\n",
       "  <tbody>\n",
       "    <tr>\n",
       "      <th>7393</th>\n",
       "      <td>7394</td>\n",
       "      <td>NaN</td>\n",
       "      <td>42000000</td>\n",
       "      <td>[{'id': 53, 'name': 'Thriller'}]</td>\n",
       "      <td>NaN</td>\n",
       "      <td>tt0218922</td>\n",
       "      <td>en</td>\n",
       "      <td>Original Sin</td>\n",
       "      <td>A young man is plunged into a life of subterfu...</td>\n",
       "      <td>9.970359</td>\n",
       "      <td>...</td>\n",
       "      <td>8/3/01</td>\n",
       "      <td>118.0</td>\n",
       "      <td>[{'iso_639_1': 'en', 'name': 'English'}, {'iso...</td>\n",
       "      <td>Released</td>\n",
       "      <td>This is not a love story - it's a story about ...</td>\n",
       "      <td>Original Sin</td>\n",
       "      <td>[{'id': 515, 'name': 'women'}, {'id': 572, 'na...</td>\n",
       "      <td>[{'cast_id': 17, 'character': 'Julia Russell/B...</td>\n",
       "      <td>[{'credit_id': '52fe4330c3a36847f80412db', 'de...</td>\n",
       "      <td>NaN</td>\n",
       "    </tr>\n",
       "    <tr>\n",
       "      <th>7394</th>\n",
       "      <td>7395</td>\n",
       "      <td>[{'id': 146534, 'name': 'Without a Paddle Coll...</td>\n",
       "      <td>19000000</td>\n",
       "      <td>[{'id': 28, 'name': 'Action'}, {'id': 12, 'nam...</td>\n",
       "      <td>NaN</td>\n",
       "      <td>tt0364751</td>\n",
       "      <td>en</td>\n",
       "      <td>Without a Paddle</td>\n",
       "      <td>Three friends, whose lives have been drifting ...</td>\n",
       "      <td>6.046516</td>\n",
       "      <td>...</td>\n",
       "      <td>8/20/04</td>\n",
       "      <td>95.0</td>\n",
       "      <td>[{'iso_639_1': 'en', 'name': 'English'}]</td>\n",
       "      <td>Released</td>\n",
       "      <td>The call of the wild, the thrill of adventure....</td>\n",
       "      <td>Without a Paddle</td>\n",
       "      <td>[{'id': 4959, 'name': 'death of a friend'}, {'...</td>\n",
       "      <td>[{'cast_id': 40, 'character': 'Dan Mott', 'cre...</td>\n",
       "      <td>[{'credit_id': '52fe43b29251416c7501a909', 'de...</td>\n",
       "      <td>NaN</td>\n",
       "    </tr>\n",
       "    <tr>\n",
       "      <th>7395</th>\n",
       "      <td>7396</td>\n",
       "      <td>NaN</td>\n",
       "      <td>16000000</td>\n",
       "      <td>[{'id': 18, 'name': 'Drama'}]</td>\n",
       "      <td>NaN</td>\n",
       "      <td>tt0084855</td>\n",
       "      <td>en</td>\n",
       "      <td>The Verdict</td>\n",
       "      <td>Frank Galvin is a down-on-his luck lawyer, red...</td>\n",
       "      <td>9.596883</td>\n",
       "      <td>...</td>\n",
       "      <td>12/8/82</td>\n",
       "      <td>129.0</td>\n",
       "      <td>[{'iso_639_1': 'en', 'name': 'English'}]</td>\n",
       "      <td>Released</td>\n",
       "      <td>The doctors want to settle, the Church wants t...</td>\n",
       "      <td>The Verdict</td>\n",
       "      <td>[{'id': 1680, 'name': 'boston'}, {'id': 6148, ...</td>\n",
       "      <td>[{'cast_id': 1, 'character': 'Frank Galvin', '...</td>\n",
       "      <td>[{'credit_id': '52fe448bc3a368484e028c55', 'de...</td>\n",
       "      <td>NaN</td>\n",
       "    </tr>\n",
       "    <tr>\n",
       "      <th>7396</th>\n",
       "      <td>7397</td>\n",
       "      <td>NaN</td>\n",
       "      <td>2000000</td>\n",
       "      <td>[{'id': 27, 'name': 'Horror'}, {'id': 53, 'nam...</td>\n",
       "      <td>NaN</td>\n",
       "      <td>tt3235888</td>\n",
       "      <td>en</td>\n",
       "      <td>It Follows</td>\n",
       "      <td>For 19-year-old Jay, fall should be about scho...</td>\n",
       "      <td>20.359336</td>\n",
       "      <td>...</td>\n",
       "      <td>2/4/15</td>\n",
       "      <td>100.0</td>\n",
       "      <td>[{'iso_639_1': 'en', 'name': 'English'}]</td>\n",
       "      <td>Released</td>\n",
       "      <td>It doesn't think, it doesn't feel, it doesn't ...</td>\n",
       "      <td>It Follows</td>\n",
       "      <td>[{'id': 3713, 'name': 'chase'}, {'id': 6152, '...</td>\n",
       "      <td>[{'cast_id': 1, 'character': 'Jay Height', 'cr...</td>\n",
       "      <td>[{'credit_id': '537770b20e0a261431002299', 'de...</td>\n",
       "      <td>NaN</td>\n",
       "    </tr>\n",
       "    <tr>\n",
       "      <th>7397</th>\n",
       "      <td>7398</td>\n",
       "      <td>NaN</td>\n",
       "      <td>64000</td>\n",
       "      <td>[{'id': 18, 'name': 'Drama'}]</td>\n",
       "      <td>NaN</td>\n",
       "      <td>tt0056663</td>\n",
       "      <td>fr</td>\n",
       "      <td>Vivre sa vie: film en douze tableaux</td>\n",
       "      <td>Twelve episodic tales in the life of a Parisia...</td>\n",
       "      <td>11.305910</td>\n",
       "      <td>...</td>\n",
       "      <td>9/20/62</td>\n",
       "      <td>85.0</td>\n",
       "      <td>[{'iso_639_1': 'fr', 'name': 'Français'}]</td>\n",
       "      <td>Released</td>\n",
       "      <td>The many faces of a woman trying to find herse...</td>\n",
       "      <td>Vivre Sa Vie</td>\n",
       "      <td>[{'id': 90, 'name': 'paris'}, {'id': 490, 'nam...</td>\n",
       "      <td>[{'cast_id': 8, 'character': 'Nana Kleinfranke...</td>\n",
       "      <td>[{'credit_id': '52fe4306c3a36847f80349a5', 'de...</td>\n",
       "      <td>NaN</td>\n",
       "    </tr>\n",
       "  </tbody>\n",
       "</table>\n",
       "<p>5 rows × 23 columns</p>\n",
       "</div>"
      ],
      "text/plain": [
       "        id                              belongs_to_collection    budget  \\\n",
       "7393  7394                                                NaN  42000000   \n",
       "7394  7395  [{'id': 146534, 'name': 'Without a Paddle Coll...  19000000   \n",
       "7395  7396                                                NaN  16000000   \n",
       "7396  7397                                                NaN   2000000   \n",
       "7397  7398                                                NaN     64000   \n",
       "\n",
       "                                                 genres homepage    imdb_id  \\\n",
       "7393                   [{'id': 53, 'name': 'Thriller'}]      NaN  tt0218922   \n",
       "7394  [{'id': 28, 'name': 'Action'}, {'id': 12, 'nam...      NaN  tt0364751   \n",
       "7395                      [{'id': 18, 'name': 'Drama'}]      NaN  tt0084855   \n",
       "7396  [{'id': 27, 'name': 'Horror'}, {'id': 53, 'nam...      NaN  tt3235888   \n",
       "7397                      [{'id': 18, 'name': 'Drama'}]      NaN  tt0056663   \n",
       "\n",
       "     original_language                        original_title  \\\n",
       "7393                en                          Original Sin   \n",
       "7394                en                      Without a Paddle   \n",
       "7395                en                           The Verdict   \n",
       "7396                en                            It Follows   \n",
       "7397                fr  Vivre sa vie: film en douze tableaux   \n",
       "\n",
       "                                               overview  popularity  ...  \\\n",
       "7393  A young man is plunged into a life of subterfu...    9.970359  ...   \n",
       "7394  Three friends, whose lives have been drifting ...    6.046516  ...   \n",
       "7395  Frank Galvin is a down-on-his luck lawyer, red...    9.596883  ...   \n",
       "7396  For 19-year-old Jay, fall should be about scho...   20.359336  ...   \n",
       "7397  Twelve episodic tales in the life of a Parisia...   11.305910  ...   \n",
       "\n",
       "     release_date runtime                                   spoken_languages  \\\n",
       "7393       8/3/01   118.0  [{'iso_639_1': 'en', 'name': 'English'}, {'iso...   \n",
       "7394      8/20/04    95.0           [{'iso_639_1': 'en', 'name': 'English'}]   \n",
       "7395      12/8/82   129.0           [{'iso_639_1': 'en', 'name': 'English'}]   \n",
       "7396       2/4/15   100.0           [{'iso_639_1': 'en', 'name': 'English'}]   \n",
       "7397      9/20/62    85.0          [{'iso_639_1': 'fr', 'name': 'Français'}]   \n",
       "\n",
       "        status                                            tagline  \\\n",
       "7393  Released  This is not a love story - it's a story about ...   \n",
       "7394  Released  The call of the wild, the thrill of adventure....   \n",
       "7395  Released  The doctors want to settle, the Church wants t...   \n",
       "7396  Released  It doesn't think, it doesn't feel, it doesn't ...   \n",
       "7397  Released  The many faces of a woman trying to find herse...   \n",
       "\n",
       "                 title                                           Keywords  \\\n",
       "7393      Original Sin  [{'id': 515, 'name': 'women'}, {'id': 572, 'na...   \n",
       "7394  Without a Paddle  [{'id': 4959, 'name': 'death of a friend'}, {'...   \n",
       "7395       The Verdict  [{'id': 1680, 'name': 'boston'}, {'id': 6148, ...   \n",
       "7396        It Follows  [{'id': 3713, 'name': 'chase'}, {'id': 6152, '...   \n",
       "7397      Vivre Sa Vie  [{'id': 90, 'name': 'paris'}, {'id': 490, 'nam...   \n",
       "\n",
       "                                                   cast  \\\n",
       "7393  [{'cast_id': 17, 'character': 'Julia Russell/B...   \n",
       "7394  [{'cast_id': 40, 'character': 'Dan Mott', 'cre...   \n",
       "7395  [{'cast_id': 1, 'character': 'Frank Galvin', '...   \n",
       "7396  [{'cast_id': 1, 'character': 'Jay Height', 'cr...   \n",
       "7397  [{'cast_id': 8, 'character': 'Nana Kleinfranke...   \n",
       "\n",
       "                                                   crew revenue  \n",
       "7393  [{'credit_id': '52fe4330c3a36847f80412db', 'de...     NaN  \n",
       "7394  [{'credit_id': '52fe43b29251416c7501a909', 'de...     NaN  \n",
       "7395  [{'credit_id': '52fe448bc3a368484e028c55', 'de...     NaN  \n",
       "7396  [{'credit_id': '537770b20e0a261431002299', 'de...     NaN  \n",
       "7397  [{'credit_id': '52fe4306c3a36847f80349a5', 'de...     NaN  \n",
       "\n",
       "[5 rows x 23 columns]"
      ]
     },
     "execution_count": 816,
     "metadata": {},
     "output_type": "execute_result"
    }
   ],
   "source": [
    "all_df.tail()"
   ]
  },
  {
   "cell_type": "code",
   "execution_count": 817,
   "metadata": {
    "scrolled": true
   },
   "outputs": [
    {
     "name": "stdout",
     "output_type": "stream",
     "text": [
      "<class 'pandas.core.frame.DataFrame'>\n",
      "RangeIndex: 7398 entries, 0 to 7397\n",
      "Data columns (total 23 columns):\n",
      "id                       7398 non-null int64\n",
      "belongs_to_collection    1481 non-null object\n",
      "budget                   7398 non-null int64\n",
      "genres                   7375 non-null object\n",
      "homepage                 2366 non-null object\n",
      "imdb_id                  7398 non-null object\n",
      "original_language        7398 non-null object\n",
      "original_title           7398 non-null object\n",
      "overview                 7376 non-null object\n",
      "popularity               7398 non-null float64\n",
      "poster_path              7396 non-null object\n",
      "production_companies     6984 non-null object\n",
      "production_countries     7241 non-null object\n",
      "release_date             7397 non-null object\n",
      "runtime                  7392 non-null float64\n",
      "spoken_languages         7336 non-null object\n",
      "status                   7396 non-null object\n",
      "tagline                  5938 non-null object\n",
      "title                    7395 non-null object\n",
      "Keywords                 6729 non-null object\n",
      "cast                     7372 non-null object\n",
      "crew                     7360 non-null object\n",
      "revenue                  3000 non-null float64\n",
      "dtypes: float64(3), int64(2), object(18)\n",
      "memory usage: 1.3+ MB\n"
     ]
    }
   ],
   "source": [
    "all_df.info()"
   ]
  },
  {
   "cell_type": "code",
   "execution_count": 818,
   "metadata": {},
   "outputs": [],
   "source": [
    "from collections import Counter"
   ]
  },
  {
   "cell_type": "code",
   "execution_count": 819,
   "metadata": {},
   "outputs": [],
   "source": [
    "all_df['has_name'] = all_df.belongs_to_collection.apply(lambda x:0 if pd.isna(x) else 1)"
   ]
  },
  {
   "cell_type": "code",
   "execution_count": 820,
   "metadata": {},
   "outputs": [],
   "source": [
    "all_df.belongs_to_collection = all_df.belongs_to_collection.apply(lambda x:''if pd.isna(x) else eval(x)[0]['name'])"
   ]
  },
  {
   "cell_type": "code",
   "execution_count": 821,
   "metadata": {
    "scrolled": true
   },
   "outputs": [],
   "source": [
    "most_collection = [i[0] for i in Counter(all_df.belongs_to_collection).most_common(30)[1:]]"
   ]
  },
  {
   "cell_type": "code",
   "execution_count": 822,
   "metadata": {},
   "outputs": [],
   "source": [
    "for i in most_collection:\n",
    "    all_df['most_collection_' +  i] = all_df.belongs_to_collection.apply(lambda x: 1 if x==i else 0)"
   ]
  },
  {
   "cell_type": "code",
   "execution_count": 823,
   "metadata": {},
   "outputs": [],
   "source": [
    "all_df['genres'] = all_df.genres.apply(lambda x:[] if pd.isna(x) else [i['name'] for i in eval(x)])"
   ]
  },
  {
   "cell_type": "code",
   "execution_count": 824,
   "metadata": {},
   "outputs": [],
   "source": [
    "all_genere = []\n",
    "for i in all_df['genres']:\n",
    "    all_genere.extend(i)"
   ]
  },
  {
   "cell_type": "code",
   "execution_count": 825,
   "metadata": {},
   "outputs": [],
   "source": [
    "all_genere = set(all_genere)"
   ]
  },
  {
   "cell_type": "code",
   "execution_count": 826,
   "metadata": {},
   "outputs": [],
   "source": [
    "for i in all_genere:\n",
    "    all_df['genere_'+i] = all_df['genres']\n",
    "    all_df['genere_'+i] = all_df['genere_'+i].apply(lambda x:1 if i in x else 0)"
   ]
  },
  {
   "cell_type": "code",
   "execution_count": 827,
   "metadata": {},
   "outputs": [],
   "source": [
    "all_df['overview_len'] = all_df.overview.apply(lambda x:0 if pd.isna(x) else len(x.split()))"
   ]
  },
  {
   "cell_type": "code",
   "execution_count": 828,
   "metadata": {},
   "outputs": [],
   "source": [
    "all_df['production_companies_len'] = all_df.production_companies.apply(lambda x:0 if pd.isna(x) else len(eval(x)))"
   ]
  },
  {
   "cell_type": "code",
   "execution_count": 829,
   "metadata": {},
   "outputs": [],
   "source": [
    "def most_dummies(df, col, tag):\n",
    "    new_col = df[col].apply(lambda x:[] if pd.isna(x) else [i[tag] for i in eval(x)])\n",
    "    most_types = [k[0] for k in Counter(j for i in new_col for j in i).most_common(30)]\n",
    "    for i in most_types:\n",
    "        df[col+'_'+i] = new_col.apply(lambda x:1 if i in x else 0)"
   ]
  },
  {
   "cell_type": "code",
   "execution_count": 830,
   "metadata": {},
   "outputs": [],
   "source": [
    "most_dummies(all_df, 'production_companies', 'name')"
   ]
  },
  {
   "cell_type": "code",
   "execution_count": 831,
   "metadata": {},
   "outputs": [],
   "source": [
    "all_df['spoken_languages_len'] = all_df.spoken_languages.apply(lambda x:0 if pd.isna(x) else len(eval(x)))"
   ]
  },
  {
   "cell_type": "code",
   "execution_count": 832,
   "metadata": {},
   "outputs": [],
   "source": [
    "most_dummies(all_df, 'spoken_languages', 'iso_639_1')"
   ]
  },
  {
   "cell_type": "code",
   "execution_count": 833,
   "metadata": {},
   "outputs": [],
   "source": [
    "all_df['production_countries_len'] = all_df.production_countries.apply(lambda x:0 if pd.isna(x) else len(eval(x)))"
   ]
  },
  {
   "cell_type": "code",
   "execution_count": 834,
   "metadata": {},
   "outputs": [],
   "source": [
    "most_dummies(all_df, 'production_countries', 'iso_3166_1')"
   ]
  },
  {
   "cell_type": "code",
   "execution_count": 835,
   "metadata": {},
   "outputs": [],
   "source": [
    "all_df['tagline_len'] = all_df.tagline.apply(lambda x:0 if pd.isna(x) else len(x.split()))"
   ]
  },
  {
   "cell_type": "code",
   "execution_count": 836,
   "metadata": {},
   "outputs": [],
   "source": [
    "all_df['Keywords_len'] = all_df.Keywords.apply(lambda x:0 if pd.isna(x) else len(eval(x)))"
   ]
  },
  {
   "cell_type": "code",
   "execution_count": 837,
   "metadata": {},
   "outputs": [],
   "source": [
    "most_dummies(all_df, 'Keywords', 'name')"
   ]
  },
  {
   "cell_type": "code",
   "execution_count": 838,
   "metadata": {},
   "outputs": [],
   "source": [
    "all_df['cast_len']  = all_df.cast.apply(lambda x:0 if pd.isna(x) else len(eval(x)))"
   ]
  },
  {
   "cell_type": "code",
   "execution_count": 839,
   "metadata": {},
   "outputs": [],
   "source": [
    "most_dummies(all_df, 'cast', 'name')"
   ]
  },
  {
   "cell_type": "code",
   "execution_count": 840,
   "metadata": {},
   "outputs": [],
   "source": [
    "most_dummies(all_df, 'cast', 'character')"
   ]
  },
  {
   "cell_type": "code",
   "execution_count": 841,
   "metadata": {},
   "outputs": [],
   "source": [
    "genders = [0, 1, 2]\n",
    "cast_gender = all_df.cast.apply(lambda x:[] if pd.isna(x) else [i['gender'] for i in eval(x)])"
   ]
  },
  {
   "cell_type": "code",
   "execution_count": 842,
   "metadata": {},
   "outputs": [],
   "source": [
    "for i in genders:\n",
    "    all_df['genders_'+str(i)] = cast_gender.apply(lambda x: sum([1 for j in x if j==i]))"
   ]
  },
  {
   "cell_type": "code",
   "execution_count": 843,
   "metadata": {
    "scrolled": true
   },
   "outputs": [],
   "source": [
    "all_df['crew_len']  = all_df.crew.apply(lambda x:0 if pd.isna(x) else len(eval(x)))"
   ]
  },
  {
   "cell_type": "code",
   "execution_count": 844,
   "metadata": {},
   "outputs": [],
   "source": [
    "most_dummies(all_df, 'crew', 'name')"
   ]
  },
  {
   "cell_type": "code",
   "execution_count": 845,
   "metadata": {},
   "outputs": [],
   "source": [
    "most_dummies(all_df, 'crew', 'department')"
   ]
  },
  {
   "cell_type": "code",
   "execution_count": 846,
   "metadata": {},
   "outputs": [],
   "source": [
    "most_dummies(all_df, 'crew', 'job')"
   ]
  },
  {
   "cell_type": "code",
   "execution_count": 847,
   "metadata": {},
   "outputs": [],
   "source": [
    "crew_gender = all_df.crew.apply(lambda x:[] if pd.isna(x) else [i['gender'] for i in eval(x)])"
   ]
  },
  {
   "cell_type": "code",
   "execution_count": 848,
   "metadata": {},
   "outputs": [],
   "source": [
    "for i in genders:\n",
    "    all_df['crew_genders_'+str(i)] = crew_gender.apply(lambda x: sum([1 for j in x if j==i]))"
   ]
  },
  {
   "cell_type": "code",
   "execution_count": 849,
   "metadata": {},
   "outputs": [],
   "source": [
    "from sklearn.preprocessing import StandardScaler, MinMaxScaler"
   ]
  },
  {
   "cell_type": "code",
   "execution_count": 850,
   "metadata": {},
   "outputs": [],
   "source": [
    "all_df['budget'] = all_df['budget'].replace(0, all_df['budget'].median())"
   ]
  },
  {
   "cell_type": "code",
   "execution_count": 851,
   "metadata": {},
   "outputs": [],
   "source": [
    "all_df['budget']= StandardScaler().fit_transform(all_df.budget.values.reshape(-1,1))\n",
    "# all_df['budget']= MinMaxScaler().fit_transform(all_df.budget.values.reshape(-1,1))"
   ]
  },
  {
   "cell_type": "code",
   "execution_count": 852,
   "metadata": {},
   "outputs": [],
   "source": [
    "all_df['has_homepage']= all_df.homepage.apply(lambda x:0 if pd.isna(x) else 1)"
   ]
  },
  {
   "cell_type": "code",
   "execution_count": 853,
   "metadata": {},
   "outputs": [],
   "source": [
    "all_df['original_title_duplicated'] = 0\n",
    "all_df.loc[all_df.original_title.duplicated(keep=False), 'original_title_duplicated'] = 1"
   ]
  },
  {
   "cell_type": "code",
   "execution_count": 854,
   "metadata": {},
   "outputs": [],
   "source": [
    "all_df['popularity']= StandardScaler().fit_transform(all_df.popularity.values.reshape(-1,1))\n",
    "# all_df['popularity']= MinMaxScaler().fit_transform(all_df.popularity.values.reshape(-1,1))"
   ]
  },
  {
   "cell_type": "code",
   "execution_count": 855,
   "metadata": {},
   "outputs": [],
   "source": [
    "all_df['has_poster_path'] = all_df.poster_path.apply(lambda x:0 if pd.isna(x) else 1)"
   ]
  },
  {
   "cell_type": "code",
   "execution_count": 856,
   "metadata": {},
   "outputs": [],
   "source": [
    "all_df['release_date'].fillna('1/1/00', inplace=True) "
   ]
  },
  {
   "cell_type": "code",
   "execution_count": 857,
   "metadata": {},
   "outputs": [],
   "source": [
    "all_df['release_date'] = all_df['release_date'].apply(lambda x: [int(i) for i in x.split('/')])"
   ]
  },
  {
   "cell_type": "code",
   "execution_count": 858,
   "metadata": {},
   "outputs": [],
   "source": [
    "all_df['2010_2019'] = all_df['release_date'].apply(lambda x: 1 if  10<=x[2]<=19 else 0)"
   ]
  },
  {
   "cell_type": "code",
   "execution_count": 859,
   "metadata": {},
   "outputs": [],
   "source": [
    "all_df['1995_2010'] = all_df['release_date'].apply(lambda x: 1 if  95<=x[2]<100 or 0<x[2]<10 else 0)"
   ]
  },
  {
   "cell_type": "code",
   "execution_count": 860,
   "metadata": {},
   "outputs": [],
   "source": [
    "all_df['1950_1995'] = all_df['release_date'].apply(lambda x: 1 if  50<=x[2]<95 else 0)"
   ]
  },
  {
   "cell_type": "code",
   "execution_count": 861,
   "metadata": {},
   "outputs": [],
   "source": [
    "all_df['release_month'] = all_df['release_date'].apply(lambda x: x[0])"
   ]
  },
  {
   "cell_type": "code",
   "execution_count": 862,
   "metadata": {},
   "outputs": [],
   "source": [
    "all_df['runtime'] = all_df.runtime.fillna(all_df.runtime.median()).replace(0, all_df.runtime.median())"
   ]
  },
  {
   "cell_type": "code",
   "execution_count": 863,
   "metadata": {},
   "outputs": [],
   "source": [
    "all_df['runtime'] = StandardScaler().fit_transform(all_df.runtime.values.reshape(-1,1))\n",
    "# all_df['runtime'] = MinMaxScaler().fit_transform(all_df.runtime.values.reshape(-1,1))"
   ]
  },
  {
   "cell_type": "code",
   "execution_count": 864,
   "metadata": {
    "scrolled": false
   },
   "outputs": [],
   "source": [
    "all_df['same_titile'] =0\n",
    "all_df.loc[all_df['original_title']==all_df['title'], 'same_titile']= 1"
   ]
  },
  {
   "cell_type": "code",
   "execution_count": 865,
   "metadata": {},
   "outputs": [],
   "source": [
    "all_df.status.fillna(all_df.status.mode()[0], inplace=True)"
   ]
  },
  {
   "cell_type": "code",
   "execution_count": 866,
   "metadata": {},
   "outputs": [],
   "source": [
    "drop_cols = ['id', 'belongs_to_collection','genres','homepage', 'imdb_id', 'original_title','overview',\n",
    "             'poster_path','production_companies', 'production_countries','release_date','spoken_languages',\n",
    "            'tagline','title','Keywords','cast','crew']"
   ]
  },
  {
   "cell_type": "code",
   "execution_count": 867,
   "metadata": {},
   "outputs": [],
   "source": [
    "all_df.drop(drop_cols, axis=1, inplace=True)"
   ]
  },
  {
   "cell_type": "code",
   "execution_count": 868,
   "metadata": {},
   "outputs": [
    {
     "data": {
      "text/html": [
       "<div>\n",
       "<style scoped>\n",
       "    .dataframe tbody tr th:only-of-type {\n",
       "        vertical-align: middle;\n",
       "    }\n",
       "\n",
       "    .dataframe tbody tr th {\n",
       "        vertical-align: top;\n",
       "    }\n",
       "\n",
       "    .dataframe thead th {\n",
       "        text-align: right;\n",
       "    }\n",
       "</style>\n",
       "<table border=\"1\" class=\"dataframe\">\n",
       "  <thead>\n",
       "    <tr style=\"text-align: right;\">\n",
       "      <th></th>\n",
       "      <th>budget</th>\n",
       "      <th>original_language</th>\n",
       "      <th>popularity</th>\n",
       "      <th>runtime</th>\n",
       "      <th>status</th>\n",
       "      <th>revenue</th>\n",
       "      <th>has_name</th>\n",
       "      <th>most_collection_James Bond Collection</th>\n",
       "      <th>most_collection_Friday the 13th Collection</th>\n",
       "      <th>most_collection_Pokémon Collection</th>\n",
       "      <th>...</th>\n",
       "      <th>crew_genders_1</th>\n",
       "      <th>crew_genders_2</th>\n",
       "      <th>has_homepage</th>\n",
       "      <th>original_title_duplicated</th>\n",
       "      <th>has_poster_path</th>\n",
       "      <th>2010_2019</th>\n",
       "      <th>1995_2010</th>\n",
       "      <th>1950_1995</th>\n",
       "      <th>release_month</th>\n",
       "      <th>same_titile</th>\n",
       "    </tr>\n",
       "  </thead>\n",
       "  <tbody>\n",
       "    <tr>\n",
       "      <th>0</th>\n",
       "      <td>-0.297337</td>\n",
       "      <td>en</td>\n",
       "      <td>-0.159439</td>\n",
       "      <td>-0.725523</td>\n",
       "      <td>Released</td>\n",
       "      <td>12314651.0</td>\n",
       "      <td>1</td>\n",
       "      <td>0</td>\n",
       "      <td>0</td>\n",
       "      <td>0</td>\n",
       "      <td>...</td>\n",
       "      <td>0</td>\n",
       "      <td>13</td>\n",
       "      <td>0</td>\n",
       "      <td>0</td>\n",
       "      <td>1</td>\n",
       "      <td>1</td>\n",
       "      <td>0</td>\n",
       "      <td>0</td>\n",
       "      <td>2</td>\n",
       "      <td>1</td>\n",
       "    </tr>\n",
       "    <tr>\n",
       "      <th>1</th>\n",
       "      <td>0.428396</td>\n",
       "      <td>en</td>\n",
       "      <td>-0.021872</td>\n",
       "      <td>0.241231</td>\n",
       "      <td>Released</td>\n",
       "      <td>95149435.0</td>\n",
       "      <td>1</td>\n",
       "      <td>0</td>\n",
       "      <td>0</td>\n",
       "      <td>0</td>\n",
       "      <td>...</td>\n",
       "      <td>4</td>\n",
       "      <td>4</td>\n",
       "      <td>0</td>\n",
       "      <td>0</td>\n",
       "      <td>1</td>\n",
       "      <td>0</td>\n",
       "      <td>1</td>\n",
       "      <td>0</td>\n",
       "      <td>8</td>\n",
       "      <td>1</td>\n",
       "    </tr>\n",
       "    <tr>\n",
       "      <th>2</th>\n",
       "      <td>-0.596005</td>\n",
       "      <td>en</td>\n",
       "      <td>4.585709</td>\n",
       "      <td>-0.145471</td>\n",
       "      <td>Released</td>\n",
       "      <td>13092000.0</td>\n",
       "      <td>0</td>\n",
       "      <td>0</td>\n",
       "      <td>0</td>\n",
       "      <td>0</td>\n",
       "      <td>...</td>\n",
       "      <td>4</td>\n",
       "      <td>11</td>\n",
       "      <td>1</td>\n",
       "      <td>0</td>\n",
       "      <td>1</td>\n",
       "      <td>1</td>\n",
       "      <td>0</td>\n",
       "      <td>0</td>\n",
       "      <td>10</td>\n",
       "      <td>1</td>\n",
       "    </tr>\n",
       "    <tr>\n",
       "      <th>3</th>\n",
       "      <td>-0.654621</td>\n",
       "      <td>hi</td>\n",
       "      <td>-0.438968</td>\n",
       "      <td>0.676271</td>\n",
       "      <td>Released</td>\n",
       "      <td>16000000.0</td>\n",
       "      <td>0</td>\n",
       "      <td>0</td>\n",
       "      <td>0</td>\n",
       "      <td>0</td>\n",
       "      <td>...</td>\n",
       "      <td>0</td>\n",
       "      <td>0</td>\n",
       "      <td>1</td>\n",
       "      <td>0</td>\n",
       "      <td>1</td>\n",
       "      <td>1</td>\n",
       "      <td>0</td>\n",
       "      <td>0</td>\n",
       "      <td>3</td>\n",
       "      <td>1</td>\n",
       "    </tr>\n",
       "    <tr>\n",
       "      <th>4</th>\n",
       "      <td>-0.478771</td>\n",
       "      <td>ko</td>\n",
       "      <td>-0.605583</td>\n",
       "      <td>0.482920</td>\n",
       "      <td>Released</td>\n",
       "      <td>3923970.0</td>\n",
       "      <td>0</td>\n",
       "      <td>0</td>\n",
       "      <td>0</td>\n",
       "      <td>0</td>\n",
       "      <td>...</td>\n",
       "      <td>0</td>\n",
       "      <td>0</td>\n",
       "      <td>0</td>\n",
       "      <td>0</td>\n",
       "      <td>1</td>\n",
       "      <td>0</td>\n",
       "      <td>1</td>\n",
       "      <td>0</td>\n",
       "      <td>2</td>\n",
       "      <td>0</td>\n",
       "    </tr>\n",
       "  </tbody>\n",
       "</table>\n",
       "<p>5 rows × 330 columns</p>\n",
       "</div>"
      ],
      "text/plain": [
       "     budget original_language  popularity   runtime    status     revenue  \\\n",
       "0 -0.297337                en   -0.159439 -0.725523  Released  12314651.0   \n",
       "1  0.428396                en   -0.021872  0.241231  Released  95149435.0   \n",
       "2 -0.596005                en    4.585709 -0.145471  Released  13092000.0   \n",
       "3 -0.654621                hi   -0.438968  0.676271  Released  16000000.0   \n",
       "4 -0.478771                ko   -0.605583  0.482920  Released   3923970.0   \n",
       "\n",
       "   has_name  most_collection_James Bond Collection  \\\n",
       "0         1                                      0   \n",
       "1         1                                      0   \n",
       "2         0                                      0   \n",
       "3         0                                      0   \n",
       "4         0                                      0   \n",
       "\n",
       "   most_collection_Friday the 13th Collection  \\\n",
       "0                                           0   \n",
       "1                                           0   \n",
       "2                                           0   \n",
       "3                                           0   \n",
       "4                                           0   \n",
       "\n",
       "   most_collection_Pokémon Collection  ...  crew_genders_1  crew_genders_2  \\\n",
       "0                                   0  ...               0              13   \n",
       "1                                   0  ...               4               4   \n",
       "2                                   0  ...               4              11   \n",
       "3                                   0  ...               0               0   \n",
       "4                                   0  ...               0               0   \n",
       "\n",
       "   has_homepage  original_title_duplicated  has_poster_path  2010_2019  \\\n",
       "0             0                          0                1          1   \n",
       "1             0                          0                1          0   \n",
       "2             1                          0                1          1   \n",
       "3             1                          0                1          1   \n",
       "4             0                          0                1          0   \n",
       "\n",
       "   1995_2010  1950_1995  release_month  same_titile  \n",
       "0          0          0              2            1  \n",
       "1          1          0              8            1  \n",
       "2          0          0             10            1  \n",
       "3          0          0              3            1  \n",
       "4          1          0              2            0  \n",
       "\n",
       "[5 rows x 330 columns]"
      ]
     },
     "execution_count": 868,
     "metadata": {},
     "output_type": "execute_result"
    }
   ],
   "source": [
    "all_df.head()"
   ]
  },
  {
   "cell_type": "code",
   "execution_count": 869,
   "metadata": {
    "scrolled": true
   },
   "outputs": [
    {
     "name": "stdout",
     "output_type": "stream",
     "text": [
      "<class 'pandas.core.frame.DataFrame'>\n",
      "RangeIndex: 7398 entries, 0 to 7397\n",
      "Columns: 330 entries, budget to same_titile\n",
      "dtypes: float64(4), int64(324), object(2)\n",
      "memory usage: 18.6+ MB\n"
     ]
    }
   ],
   "source": [
    "all_df.info()"
   ]
  },
  {
   "cell_type": "code",
   "execution_count": 870,
   "metadata": {},
   "outputs": [],
   "source": [
    "dummy_cols = ['original_language','status', 'release_month']"
   ]
  },
  {
   "cell_type": "code",
   "execution_count": 871,
   "metadata": {},
   "outputs": [],
   "source": [
    "from sklearn.preprocessing import LabelEncoder"
   ]
  },
  {
   "cell_type": "code",
   "execution_count": 872,
   "metadata": {},
   "outputs": [],
   "source": [
    "# for i in dummy_cols:\n",
    "#     all_df[i] = LabelEncoder().fit_transform(all_df[i].values.reshape(-1,1))"
   ]
  },
  {
   "cell_type": "code",
   "execution_count": 873,
   "metadata": {},
   "outputs": [],
   "source": [
    "all_df = pd.get_dummies(all_df, columns=dummy_cols)"
   ]
  },
  {
   "cell_type": "code",
   "execution_count": 874,
   "metadata": {},
   "outputs": [
    {
     "data": {
      "text/html": [
       "<div>\n",
       "<style scoped>\n",
       "    .dataframe tbody tr th:only-of-type {\n",
       "        vertical-align: middle;\n",
       "    }\n",
       "\n",
       "    .dataframe tbody tr th {\n",
       "        vertical-align: top;\n",
       "    }\n",
       "\n",
       "    .dataframe thead th {\n",
       "        text-align: right;\n",
       "    }\n",
       "</style>\n",
       "<table border=\"1\" class=\"dataframe\">\n",
       "  <thead>\n",
       "    <tr style=\"text-align: right;\">\n",
       "      <th></th>\n",
       "      <th>budget</th>\n",
       "      <th>popularity</th>\n",
       "      <th>runtime</th>\n",
       "      <th>revenue</th>\n",
       "      <th>has_name</th>\n",
       "      <th>most_collection_James Bond Collection</th>\n",
       "      <th>most_collection_Friday the 13th Collection</th>\n",
       "      <th>most_collection_Pokémon Collection</th>\n",
       "      <th>most_collection_The Fast and the Furious Collection</th>\n",
       "      <th>most_collection_The Pink Panther (Original) Collection</th>\n",
       "      <th>...</th>\n",
       "      <th>release_month_3</th>\n",
       "      <th>release_month_4</th>\n",
       "      <th>release_month_5</th>\n",
       "      <th>release_month_6</th>\n",
       "      <th>release_month_7</th>\n",
       "      <th>release_month_8</th>\n",
       "      <th>release_month_9</th>\n",
       "      <th>release_month_10</th>\n",
       "      <th>release_month_11</th>\n",
       "      <th>release_month_12</th>\n",
       "    </tr>\n",
       "  </thead>\n",
       "  <tbody>\n",
       "    <tr>\n",
       "      <th>0</th>\n",
       "      <td>-0.297337</td>\n",
       "      <td>-0.159439</td>\n",
       "      <td>-0.725523</td>\n",
       "      <td>12314651.0</td>\n",
       "      <td>1</td>\n",
       "      <td>0</td>\n",
       "      <td>0</td>\n",
       "      <td>0</td>\n",
       "      <td>0</td>\n",
       "      <td>0</td>\n",
       "      <td>...</td>\n",
       "      <td>0</td>\n",
       "      <td>0</td>\n",
       "      <td>0</td>\n",
       "      <td>0</td>\n",
       "      <td>0</td>\n",
       "      <td>0</td>\n",
       "      <td>0</td>\n",
       "      <td>0</td>\n",
       "      <td>0</td>\n",
       "      <td>0</td>\n",
       "    </tr>\n",
       "    <tr>\n",
       "      <th>1</th>\n",
       "      <td>0.428396</td>\n",
       "      <td>-0.021872</td>\n",
       "      <td>0.241231</td>\n",
       "      <td>95149435.0</td>\n",
       "      <td>1</td>\n",
       "      <td>0</td>\n",
       "      <td>0</td>\n",
       "      <td>0</td>\n",
       "      <td>0</td>\n",
       "      <td>0</td>\n",
       "      <td>...</td>\n",
       "      <td>0</td>\n",
       "      <td>0</td>\n",
       "      <td>0</td>\n",
       "      <td>0</td>\n",
       "      <td>0</td>\n",
       "      <td>1</td>\n",
       "      <td>0</td>\n",
       "      <td>0</td>\n",
       "      <td>0</td>\n",
       "      <td>0</td>\n",
       "    </tr>\n",
       "    <tr>\n",
       "      <th>2</th>\n",
       "      <td>-0.596005</td>\n",
       "      <td>4.585709</td>\n",
       "      <td>-0.145471</td>\n",
       "      <td>13092000.0</td>\n",
       "      <td>0</td>\n",
       "      <td>0</td>\n",
       "      <td>0</td>\n",
       "      <td>0</td>\n",
       "      <td>0</td>\n",
       "      <td>0</td>\n",
       "      <td>...</td>\n",
       "      <td>0</td>\n",
       "      <td>0</td>\n",
       "      <td>0</td>\n",
       "      <td>0</td>\n",
       "      <td>0</td>\n",
       "      <td>0</td>\n",
       "      <td>0</td>\n",
       "      <td>1</td>\n",
       "      <td>0</td>\n",
       "      <td>0</td>\n",
       "    </tr>\n",
       "    <tr>\n",
       "      <th>3</th>\n",
       "      <td>-0.654621</td>\n",
       "      <td>-0.438968</td>\n",
       "      <td>0.676271</td>\n",
       "      <td>16000000.0</td>\n",
       "      <td>0</td>\n",
       "      <td>0</td>\n",
       "      <td>0</td>\n",
       "      <td>0</td>\n",
       "      <td>0</td>\n",
       "      <td>0</td>\n",
       "      <td>...</td>\n",
       "      <td>1</td>\n",
       "      <td>0</td>\n",
       "      <td>0</td>\n",
       "      <td>0</td>\n",
       "      <td>0</td>\n",
       "      <td>0</td>\n",
       "      <td>0</td>\n",
       "      <td>0</td>\n",
       "      <td>0</td>\n",
       "      <td>0</td>\n",
       "    </tr>\n",
       "    <tr>\n",
       "      <th>4</th>\n",
       "      <td>-0.478771</td>\n",
       "      <td>-0.605583</td>\n",
       "      <td>0.482920</td>\n",
       "      <td>3923970.0</td>\n",
       "      <td>0</td>\n",
       "      <td>0</td>\n",
       "      <td>0</td>\n",
       "      <td>0</td>\n",
       "      <td>0</td>\n",
       "      <td>0</td>\n",
       "      <td>...</td>\n",
       "      <td>0</td>\n",
       "      <td>0</td>\n",
       "      <td>0</td>\n",
       "      <td>0</td>\n",
       "      <td>0</td>\n",
       "      <td>0</td>\n",
       "      <td>0</td>\n",
       "      <td>0</td>\n",
       "      <td>0</td>\n",
       "      <td>0</td>\n",
       "    </tr>\n",
       "  </tbody>\n",
       "</table>\n",
       "<p>5 rows × 386 columns</p>\n",
       "</div>"
      ],
      "text/plain": [
       "     budget  popularity   runtime     revenue  has_name  \\\n",
       "0 -0.297337   -0.159439 -0.725523  12314651.0         1   \n",
       "1  0.428396   -0.021872  0.241231  95149435.0         1   \n",
       "2 -0.596005    4.585709 -0.145471  13092000.0         0   \n",
       "3 -0.654621   -0.438968  0.676271  16000000.0         0   \n",
       "4 -0.478771   -0.605583  0.482920   3923970.0         0   \n",
       "\n",
       "   most_collection_James Bond Collection  \\\n",
       "0                                      0   \n",
       "1                                      0   \n",
       "2                                      0   \n",
       "3                                      0   \n",
       "4                                      0   \n",
       "\n",
       "   most_collection_Friday the 13th Collection  \\\n",
       "0                                           0   \n",
       "1                                           0   \n",
       "2                                           0   \n",
       "3                                           0   \n",
       "4                                           0   \n",
       "\n",
       "   most_collection_Pokémon Collection  \\\n",
       "0                                   0   \n",
       "1                                   0   \n",
       "2                                   0   \n",
       "3                                   0   \n",
       "4                                   0   \n",
       "\n",
       "   most_collection_The Fast and the Furious Collection  \\\n",
       "0                                                  0     \n",
       "1                                                  0     \n",
       "2                                                  0     \n",
       "3                                                  0     \n",
       "4                                                  0     \n",
       "\n",
       "   most_collection_The Pink Panther (Original) Collection  ...  \\\n",
       "0                                                  0       ...   \n",
       "1                                                  0       ...   \n",
       "2                                                  0       ...   \n",
       "3                                                  0       ...   \n",
       "4                                                  0       ...   \n",
       "\n",
       "   release_month_3  release_month_4  release_month_5  release_month_6  \\\n",
       "0                0                0                0                0   \n",
       "1                0                0                0                0   \n",
       "2                0                0                0                0   \n",
       "3                1                0                0                0   \n",
       "4                0                0                0                0   \n",
       "\n",
       "   release_month_7  release_month_8  release_month_9  release_month_10  \\\n",
       "0                0                0                0                 0   \n",
       "1                0                1                0                 0   \n",
       "2                0                0                0                 1   \n",
       "3                0                0                0                 0   \n",
       "4                0                0                0                 0   \n",
       "\n",
       "   release_month_11  release_month_12  \n",
       "0                 0                 0  \n",
       "1                 0                 0  \n",
       "2                 0                 0  \n",
       "3                 0                 0  \n",
       "4                 0                 0  \n",
       "\n",
       "[5 rows x 386 columns]"
      ]
     },
     "execution_count": 874,
     "metadata": {},
     "output_type": "execute_result"
    }
   ],
   "source": [
    "all_df.head()"
   ]
  },
  {
   "cell_type": "code",
   "execution_count": 875,
   "metadata": {
    "scrolled": true
   },
   "outputs": [
    {
     "data": {
      "text/plain": [
       "array(['budget', 'popularity', 'runtime', 'revenue', 'has_name',\n",
       "       'most_collection_James Bond Collection',\n",
       "       'most_collection_Friday the 13th Collection',\n",
       "       'most_collection_Pokémon Collection',\n",
       "       'most_collection_The Fast and the Furious Collection',\n",
       "       'most_collection_The Pink Panther (Original) Collection',\n",
       "       'most_collection_Star Wars Collection',\n",
       "       'most_collection_Halloween Collection',\n",
       "       'most_collection_Harry Potter Collection',\n",
       "       'most_collection_A Nightmare on Elm Street Collection',\n",
       "       'most_collection_Rocky Collection',\n",
       "       'most_collection_Police Academy Collection',\n",
       "       'most_collection_Saw Collection',\n",
       "       'most_collection_The Muppet Collection',\n",
       "       'most_collection_X-Men Collection',\n",
       "       'most_collection_Resident Evil Collection',\n",
       "       'most_collection_Paranormal Activity Collection',\n",
       "       'most_collection_Star Trek: The Original Series Collection',\n",
       "       'most_collection_Ice Age Collection',\n",
       "       'most_collection_The Jack Ryan Collection',\n",
       "       'most_collection_Step Up Collection',\n",
       "       'most_collection_The Twilight Collection',\n",
       "       \"most_collection_Child's Play Collection\",\n",
       "       \"most_collection_National Lampoon's Vacation Collection\",\n",
       "       'most_collection_Transformers Collection',\n",
       "       'most_collection_Planet of the Apes Original Collection',\n",
       "       'most_collection_Superman Collection',\n",
       "       'most_collection_Final Destination Collection',\n",
       "       'most_collection_The Terminator Collection',\n",
       "       'most_collection_The Bourne Collection', 'genere_Western',\n",
       "       'genere_Family', 'genere_Comedy', 'genere_Thriller',\n",
       "       'genere_Horror', 'genere_Science Fiction', 'genere_Documentary',\n",
       "       'genere_Mystery', 'genere_War', 'genere_Fantasy', 'genere_Romance',\n",
       "       'genere_Drama', 'genere_Crime', 'genere_Adventure',\n",
       "       'genere_TV Movie', 'genere_Animation', 'genere_History',\n",
       "       'genere_Music', 'genere_Foreign', 'genere_Action', 'overview_len',\n",
       "       'production_companies_len', 'production_companies_Warner Bros.',\n",
       "       'production_companies_Universal Pictures',\n",
       "       'production_companies_Paramount Pictures',\n",
       "       'production_companies_Twentieth Century Fox Film Corporation',\n",
       "       'production_companies_Columbia Pictures',\n",
       "       'production_companies_Metro-Goldwyn-Mayer (MGM)',\n",
       "       'production_companies_New Line Cinema',\n",
       "       'production_companies_Touchstone Pictures',\n",
       "       'production_companies_Walt Disney Pictures',\n",
       "       'production_companies_Columbia Pictures Corporation',\n",
       "       'production_companies_Canal+',\n",
       "       'production_companies_TriStar Pictures',\n",
       "       'production_companies_Relativity Media',\n",
       "       'production_companies_United Artists',\n",
       "       'production_companies_Miramax Films',\n",
       "       'production_companies_Village Roadshow Pictures',\n",
       "       'production_companies_Regency Enterprises',\n",
       "       'production_companies_DreamWorks SKG',\n",
       "       'production_companies_Fox Searchlight Pictures',\n",
       "       'production_companies_Amblin Entertainment',\n",
       "       'production_companies_Lionsgate',\n",
       "       'production_companies_StudioCanal',\n",
       "       'production_companies_Working Title Films',\n",
       "       'production_companies_Dune Entertainment',\n",
       "       'production_companies_Summit Entertainment',\n",
       "       'production_companies_Dimension Films',\n",
       "       'production_companies_BBC Films',\n",
       "       'production_companies_Orion Pictures',\n",
       "       'production_companies_Hollywood Pictures',\n",
       "       'production_companies_Fox 2000 Pictures', 'spoken_languages_len',\n",
       "       'spoken_languages_en', 'spoken_languages_fr',\n",
       "       'spoken_languages_es', 'spoken_languages_de',\n",
       "       'spoken_languages_ru', 'spoken_languages_it',\n",
       "       'spoken_languages_ja', 'spoken_languages_zh',\n",
       "       'spoken_languages_hi', 'spoken_languages_ar',\n",
       "       'spoken_languages_pt', 'spoken_languages_cn',\n",
       "       'spoken_languages_ko', 'spoken_languages_pl',\n",
       "       'spoken_languages_la', 'spoken_languages_hu',\n",
       "       'spoken_languages_cs', 'spoken_languages_th',\n",
       "       'spoken_languages_ta', 'spoken_languages_sv',\n",
       "       'spoken_languages_he', 'spoken_languages_tr',\n",
       "       'spoken_languages_el', 'spoken_languages_da',\n",
       "       'spoken_languages_nl', 'spoken_languages_ur',\n",
       "       'spoken_languages_ro', 'spoken_languages_vi',\n",
       "       'spoken_languages_no', 'spoken_languages_yi',\n",
       "       'production_countries_len', 'production_countries_US',\n",
       "       'production_countries_GB', 'production_countries_FR',\n",
       "       'production_countries_DE', 'production_countries_CA',\n",
       "       'production_countries_IN', 'production_countries_IT',\n",
       "       'production_countries_JP', 'production_countries_AU',\n",
       "       'production_countries_ES', 'production_countries_RU',\n",
       "       'production_countries_CN', 'production_countries_HK',\n",
       "       'production_countries_BE', 'production_countries_IE',\n",
       "       'production_countries_KR', 'production_countries_SE',\n",
       "       'production_countries_MX', 'production_countries_NL',\n",
       "       'production_countries_DK', 'production_countries_NZ',\n",
       "       'production_countries_CZ', 'production_countries_CH',\n",
       "       'production_countries_ZA', 'production_countries_BR',\n",
       "       'production_countries_NO', 'production_countries_AT',\n",
       "       'production_countries_LU', 'production_countries_RO',\n",
       "       'production_countries_FI', 'tagline_len', 'Keywords_len',\n",
       "       'Keywords_woman director', 'Keywords_independent film',\n",
       "       'Keywords_duringcreditsstinger', 'Keywords_based on novel',\n",
       "       'Keywords_murder', 'Keywords_violence', 'Keywords_love',\n",
       "       'Keywords_revenge', 'Keywords_sex', 'Keywords_aftercreditsstinger',\n",
       "       'Keywords_biography', 'Keywords_sport', 'Keywords_friendship',\n",
       "       'Keywords_dystopia', 'Keywords_police', 'Keywords_suspense',\n",
       "       'Keywords_sequel', 'Keywords_nudity', 'Keywords_musical',\n",
       "       'Keywords_teenager', 'Keywords_female nudity', 'Keywords_drug',\n",
       "       'Keywords_los angeles', 'Keywords_new york', 'Keywords_prison',\n",
       "       'Keywords_3d', 'Keywords_high school', 'Keywords_family',\n",
       "       'Keywords_alien', 'Keywords_world war ii', 'cast_len',\n",
       "       'cast_Samuel L. Jackson', 'cast_Robert De Niro',\n",
       "       'cast_Bruce Willis', 'cast_Morgan Freeman', 'cast_Liam Neeson',\n",
       "       'cast_Willem Dafoe', 'cast_Steve Buscemi',\n",
       "       'cast_Sylvester Stallone', 'cast_Nicolas Cage', 'cast_Matt Damon',\n",
       "       'cast_J.K. Simmons', 'cast_John Goodman', 'cast_Julianne Moore',\n",
       "       'cast_Christopher Walken', 'cast_Robin Williams',\n",
       "       'cast_Johnny Depp', 'cast_Stanley Tucci', 'cast_Harrison Ford',\n",
       "       'cast_Richard Jenkins', 'cast_Ben Stiller', 'cast_Susan Sarandon',\n",
       "       'cast_Brad Pitt', 'cast_Tom Hanks', 'cast_Keith David',\n",
       "       'cast_John Leguizamo', 'cast_Woody Harrelson', 'cast_Bill Murray',\n",
       "       'cast_Dennis Quaid', 'cast_James Franco', 'cast_Dustin Hoffman',\n",
       "       'cast_', 'cast_Himself', 'cast_Herself', 'cast_Dancer',\n",
       "       'cast_Additional Voices (voice)', 'cast_Doctor', 'cast_Reporter',\n",
       "       'cast_Nurse', 'cast_Waitress', 'cast_Bartender', 'cast_Priest',\n",
       "       'cast_Soldier', 'cast_Security Guard', 'cast_(uncredited)',\n",
       "       'cast_Cop', 'cast_Paul', 'cast_Jack', 'cast_Frank', 'cast_Sam',\n",
       "       'cast_Charlie', 'cast_Waiter', 'cast_Student', 'cast_Policeman',\n",
       "       'cast_Receptionist', 'cast_Sarah', 'cast_Guard', 'cast_Mike',\n",
       "       'cast_Additional Voice (voice)', 'cast_(voice)', 'cast_Judge',\n",
       "       'genders_0', 'genders_1', 'genders_2', 'crew_len',\n",
       "       'crew_Avy Kaufman', 'crew_Steven Spielberg',\n",
       "       'crew_Robert Rodriguez', 'crew_Mary Vernieu',\n",
       "       'crew_Deborah Aquila', 'crew_Bob Weinstein',\n",
       "       'crew_Harvey Weinstein', 'crew_Hans Zimmer', 'crew_Tricia Wood',\n",
       "       'crew_James Newton Howard', 'crew_James Horner', 'crew_Luc Besson',\n",
       "       'crew_Francine Maisler', 'crew_Kerry Barden',\n",
       "       'crew_Jerry Goldsmith', 'crew_John Williams', 'crew_Danny Elfman',\n",
       "       'crew_Alan Silvestri', 'crew_Billy Hopkins', 'crew_Suzanne Smith',\n",
       "       \"crew_Dan O'Connell\", 'crew_Clint Eastwood', 'crew_Arnon Milchan',\n",
       "       'crew_Scott Rudin', 'crew_John Papsidera', 'crew_Mark Isham',\n",
       "       'crew_John Debney', 'crew_Marco Beltrami', 'crew_Tim Bevan',\n",
       "       'crew_Bruce Berman', 'crew_Production', 'crew_Sound', 'crew_Art',\n",
       "       'crew_Crew', 'crew_Writing', 'crew_Costume & Make-Up',\n",
       "       'crew_Camera', 'crew_Directing', 'crew_Editing',\n",
       "       'crew_Visual Effects', 'crew_Lighting', 'crew_Actors',\n",
       "       'crew_Producer', 'crew_Executive Producer', 'crew_Director',\n",
       "       'crew_Screenplay', 'crew_Editor', 'crew_Casting',\n",
       "       'crew_Director of Photography', 'crew_Original Music Composer',\n",
       "       'crew_Art Direction', 'crew_Production Design',\n",
       "       'crew_Costume Design', 'crew_Writer', 'crew_Set Decoration',\n",
       "       'crew_Makeup Artist', 'crew_Sound Re-Recording Mixer',\n",
       "       'crew_Script Supervisor', 'crew_Camera Operator', 'crew_Animation',\n",
       "       'crew_Visual Effects Supervisor', 'crew_Hairstylist',\n",
       "       'crew_Sound Effects Editor', 'crew_Still Photographer',\n",
       "       'crew_Visual Effects Producer', 'crew_Music Editor',\n",
       "       'crew_Dialogue Editor', 'crew_Co-Producer', 'crew_Music',\n",
       "       'crew_Stunts', 'crew_Stunt Coordinator',\n",
       "       'crew_Supervising Sound Editor', 'crew_genders_0',\n",
       "       'crew_genders_1', 'crew_genders_2', 'has_homepage',\n",
       "       'original_title_duplicated', 'has_poster_path', '2010_2019',\n",
       "       '1995_2010', '1950_1995', 'same_titile', 'original_language_af',\n",
       "       'original_language_ar', 'original_language_bm',\n",
       "       'original_language_bn', 'original_language_ca',\n",
       "       'original_language_cn', 'original_language_cs',\n",
       "       'original_language_da', 'original_language_de',\n",
       "       'original_language_el', 'original_language_en',\n",
       "       'original_language_es', 'original_language_fa',\n",
       "       'original_language_fi', 'original_language_fr',\n",
       "       'original_language_he', 'original_language_hi',\n",
       "       'original_language_hu', 'original_language_id',\n",
       "       'original_language_is', 'original_language_it',\n",
       "       'original_language_ja', 'original_language_ka',\n",
       "       'original_language_kn', 'original_language_ko',\n",
       "       'original_language_ml', 'original_language_mr',\n",
       "       'original_language_nb', 'original_language_nl',\n",
       "       'original_language_no', 'original_language_pl',\n",
       "       'original_language_pt', 'original_language_ro',\n",
       "       'original_language_ru', 'original_language_sr',\n",
       "       'original_language_sv', 'original_language_ta',\n",
       "       'original_language_te', 'original_language_th',\n",
       "       'original_language_tr', 'original_language_ur',\n",
       "       'original_language_vi', 'original_language_xx',\n",
       "       'original_language_zh', 'status_Post Production',\n",
       "       'status_Released', 'status_Rumored', 'release_month_1',\n",
       "       'release_month_2', 'release_month_3', 'release_month_4',\n",
       "       'release_month_5', 'release_month_6', 'release_month_7',\n",
       "       'release_month_8', 'release_month_9', 'release_month_10',\n",
       "       'release_month_11', 'release_month_12'], dtype=object)"
      ]
     },
     "execution_count": 875,
     "metadata": {},
     "output_type": "execute_result"
    }
   ],
   "source": [
    "all_df.columns.values"
   ]
  },
  {
   "cell_type": "code",
   "execution_count": 876,
   "metadata": {},
   "outputs": [
    {
     "name": "stdout",
     "output_type": "stream",
     "text": [
      "<class 'pandas.core.frame.DataFrame'>\n",
      "RangeIndex: 7398 entries, 0 to 7397\n",
      "Columns: 386 entries, budget to release_month_12\n",
      "dtypes: float64(4), int64(323), uint8(59)\n",
      "memory usage: 18.9 MB\n"
     ]
    }
   ],
   "source": [
    "all_df.info()"
   ]
  },
  {
   "cell_type": "code",
   "execution_count": 877,
   "metadata": {},
   "outputs": [],
   "source": [
    "from sklearn.model_selection import train_test_split, GridSearchCV\n",
    "from sklearn.linear_model import SGDRegressor, LinearRegression, Ridge, Lasso\n",
    "from sklearn.ensemble import RandomForestRegressor"
   ]
  },
  {
   "cell_type": "code",
   "execution_count": 878,
   "metadata": {},
   "outputs": [],
   "source": [
    "train = all_df[:train_n]\n",
    "test = all_df[train_n:]"
   ]
  },
  {
   "cell_type": "code",
   "execution_count": 879,
   "metadata": {},
   "outputs": [],
   "source": [
    "train_y = train['revenue']\n",
    "train = train.drop('revenue', axis=1)\n",
    "test = test.drop('revenue', axis=1)"
   ]
  },
  {
   "cell_type": "code",
   "execution_count": 880,
   "metadata": {},
   "outputs": [
    {
     "data": {
      "text/plain": [
       "LinearRegression(copy_X=True, fit_intercept=True, n_jobs=None, normalize=False)"
      ]
     },
     "execution_count": 880,
     "metadata": {},
     "output_type": "execute_result"
    }
   ],
   "source": [
    "X_train, X_test, y_train, y_test = train_test_split(train, train_y)\n",
    "lr = LinearRegression()\n",
    "lr.fit(X_train, y_train)"
   ]
  },
  {
   "cell_type": "code",
   "execution_count": 881,
   "metadata": {},
   "outputs": [
    {
     "data": {
      "text/plain": [
       "-5.4891579414909005e+17"
      ]
     },
     "execution_count": 881,
     "metadata": {},
     "output_type": "execute_result"
    }
   ],
   "source": [
    "lr.score(X_test, y_test)"
   ]
  },
  {
   "cell_type": "code",
   "execution_count": 882,
   "metadata": {},
   "outputs": [
    {
     "data": {
      "text/plain": [
       "0.7744808120653828"
      ]
     },
     "execution_count": 882,
     "metadata": {},
     "output_type": "execute_result"
    }
   ],
   "source": [
    "lr.score(X_train, y_train)"
   ]
  },
  {
   "cell_type": "code",
   "execution_count": 883,
   "metadata": {},
   "outputs": [
    {
     "name": "stderr",
     "output_type": "stream",
     "text": [
      "e:\\工具\\python\\python36\\lib\\site-packages\\sklearn\\ensemble\\forest.py:245: FutureWarning: The default value of n_estimators will change from 10 in version 0.20 to 100 in 0.22.\n",
      "  \"10 in version 0.20 to 100 in 0.22.\", FutureWarning)\n"
     ]
    },
    {
     "data": {
      "text/plain": [
       "RandomForestRegressor(bootstrap=True, criterion='mse', max_depth=None,\n",
       "                      max_features='auto', max_leaf_nodes=None,\n",
       "                      min_impurity_decrease=0.0, min_impurity_split=None,\n",
       "                      min_samples_leaf=1, min_samples_split=2,\n",
       "                      min_weight_fraction_leaf=0.0, n_estimators=10,\n",
       "                      n_jobs=None, oob_score=False, random_state=None,\n",
       "                      verbose=0, warm_start=False)"
      ]
     },
     "execution_count": 883,
     "metadata": {},
     "output_type": "execute_result"
    }
   ],
   "source": [
    "rf = RandomForestRegressor()\n",
    "rf.fit(X_train, y_train)"
   ]
  },
  {
   "cell_type": "code",
   "execution_count": 884,
   "metadata": {},
   "outputs": [
    {
     "data": {
      "text/plain": [
       "0.7019210758719414"
      ]
     },
     "execution_count": 884,
     "metadata": {},
     "output_type": "execute_result"
    }
   ],
   "source": [
    "rf.score(X_test, y_test)"
   ]
  },
  {
   "cell_type": "code",
   "execution_count": 897,
   "metadata": {
    "scrolled": true
   },
   "outputs": [
    {
     "data": {
      "text/plain": [
       "GridSearchCV(cv=5, error_score='raise-deprecating',\n",
       "             estimator=RandomForestRegressor(bootstrap=True, criterion='mse',\n",
       "                                             max_depth=None,\n",
       "                                             max_features='auto',\n",
       "                                             max_leaf_nodes=None,\n",
       "                                             min_impurity_decrease=0.0,\n",
       "                                             min_impurity_split=None,\n",
       "                                             min_samples_leaf=1,\n",
       "                                             min_samples_split=2,\n",
       "                                             min_weight_fraction_leaf=0.0,\n",
       "                                             n_estimators='warn', n_jobs=None,\n",
       "                                             oob_score=False, random_state=None,\n",
       "                                             verbose=0, warm_start=False),\n",
       "             iid='warn', n_jobs=None,\n",
       "             param_grid={'max_depth': [5, 10, None],\n",
       "                         'n_estimators': [10, 50, 100]},\n",
       "             pre_dispatch='2*n_jobs', refit=True, return_train_score=False,\n",
       "             scoring=None, verbose=0)"
      ]
     },
     "execution_count": 897,
     "metadata": {},
     "output_type": "execute_result"
    }
   ],
   "source": [
    "param_grid = {'max_depth':[5, 10, None],\n",
    "             'n_estimators':[10, 50, 100]\n",
    "             }\n",
    "grid = GridSearchCV(RandomForestRegressor(), param_grid, cv=5)\n",
    "grid.fit(X_train, y_train)"
   ]
  },
  {
   "cell_type": "code",
   "execution_count": 898,
   "metadata": {
    "scrolled": false
   },
   "outputs": [
    {
     "data": {
      "text/plain": [
       "0.7421829140665273"
      ]
     },
     "execution_count": 898,
     "metadata": {},
     "output_type": "execute_result"
    }
   ],
   "source": [
    "grid.score(X_test, y_test)"
   ]
  },
  {
   "cell_type": "code",
   "execution_count": 899,
   "metadata": {},
   "outputs": [],
   "source": [
    "predict = grid.predict(test)"
   ]
  },
  {
   "cell_type": "code",
   "execution_count": 900,
   "metadata": {},
   "outputs": [],
   "source": [
    "submission = pd.DataFrame({'id': test_df.id,\n",
    "                          'revenue': predict})"
   ]
  },
  {
   "cell_type": "code",
   "execution_count": 901,
   "metadata": {},
   "outputs": [],
   "source": [
    "submission.to_csv('submission.csv', index=False)"
   ]
  },
  {
   "cell_type": "code",
   "execution_count": 890,
   "metadata": {},
   "outputs": [
    {
     "data": {
      "text/plain": [
       "Ridge(alpha=1.0, copy_X=True, fit_intercept=True, max_iter=None,\n",
       "      normalize=False, random_state=None, solver='auto', tol=0.001)"
      ]
     },
     "execution_count": 890,
     "metadata": {},
     "output_type": "execute_result"
    }
   ],
   "source": [
    "ridge = Ridge()\n",
    "ridge.fit(X_train, y_train)"
   ]
  },
  {
   "cell_type": "code",
   "execution_count": 891,
   "metadata": {},
   "outputs": [
    {
     "data": {
      "text/plain": [
       "0.6673189953992475"
      ]
     },
     "execution_count": 891,
     "metadata": {},
     "output_type": "execute_result"
    }
   ],
   "source": [
    "ridge.score(X_test, y_test)"
   ]
  },
  {
   "cell_type": "code",
   "execution_count": 892,
   "metadata": {},
   "outputs": [
    {
     "name": "stderr",
     "output_type": "stream",
     "text": [
      "e:\\工具\\python\\python36\\lib\\site-packages\\sklearn\\linear_model\\coordinate_descent.py:475: ConvergenceWarning: Objective did not converge. You might want to increase the number of iterations. Duality gap: 6.020985447731261e+17, tolerance: 4086533021406450.0\n",
      "  positive)\n"
     ]
    },
    {
     "data": {
      "text/plain": [
       "Lasso(alpha=1.0, copy_X=True, fit_intercept=True, max_iter=1000,\n",
       "      normalize=False, positive=False, precompute=False, random_state=None,\n",
       "      selection='cyclic', tol=0.0001, warm_start=False)"
      ]
     },
     "execution_count": 892,
     "metadata": {},
     "output_type": "execute_result"
    }
   ],
   "source": [
    "lasso = Lasso()\n",
    "lasso.fit(X_train, y_train)"
   ]
  },
  {
   "cell_type": "code",
   "execution_count": 893,
   "metadata": {},
   "outputs": [
    {
     "data": {
      "text/plain": [
       "0.6515422487050303"
      ]
     },
     "execution_count": 893,
     "metadata": {},
     "output_type": "execute_result"
    }
   ],
   "source": [
    "lasso.score(X_test, y_test)"
   ]
  },
  {
   "cell_type": "code",
   "execution_count": null,
   "metadata": {},
   "outputs": [],
   "source": []
  }
 ],
 "metadata": {
  "kernelspec": {
   "display_name": "Python 3",
   "language": "python",
   "name": "python3"
  },
  "language_info": {
   "codemirror_mode": {
    "name": "ipython",
    "version": 3
   },
   "file_extension": ".py",
   "mimetype": "text/x-python",
   "name": "python",
   "nbconvert_exporter": "python",
   "pygments_lexer": "ipython3",
   "version": "3.6.6"
  }
 },
 "nbformat": 4,
 "nbformat_minor": 2
}
